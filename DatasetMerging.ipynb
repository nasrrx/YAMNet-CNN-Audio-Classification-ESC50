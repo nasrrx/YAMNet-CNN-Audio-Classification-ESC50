{
 "cells": [
  {
   "cell_type": "code",
   "execution_count": 21,
   "id": "1f6477ec",
   "metadata": {},
   "outputs": [
    {
     "name": "stdout",
     "output_type": "stream",
     "text": [
      "[✓] Metadata saved to UrbanSound8K_metadata.csv\n"
     ]
    }
   ],
   "source": [
    "import pandas as pd\n",
    "import os\n",
    "\n",
    "# Base paths\n",
    "BASE_DIR = os.path.join(\"UrbanSound8K\", \"UrbanSound8K\")\n",
    "CSV_PATH = os.path.join(BASE_DIR, \"metadata\", \"UrbanSound8K.csv\")\n",
    "AUDIO_DIR = os.path.join(BASE_DIR, \"audio\")\n",
    "\n",
    "# Load the metadata\n",
    "urban_df = pd.read_csv(CSV_PATH)\n",
    "\n",
    "# Construct full file paths for each row\n",
    "urban_df['path'] = urban_df.apply(\n",
    "    lambda row: os.path.join(AUDIO_DIR, f\"fold{row['fold']}\", row['slice_file_name']),\n",
    "    axis=1\n",
    ")\n",
    "\n",
    "# Rename column for consistency and add source\n",
    "urban_df.rename(columns={'class': 'category'}, inplace=True)\n",
    "urban_df['source'] = 'UrbanSound8K'\n",
    "\n",
    "# Keep only the columns we care about\n",
    "urban_df = urban_df[['path', 'category', 'source']]\n",
    "\n",
    "# Save to file\n",
    "urban_df.to_csv(\"UrbanSound8K_metadata.csv\", index=False)\n",
    "print(\"[✓] Metadata saved to UrbanSound8K_metadata.csv\")\n"
   ]
  },
  {
   "cell_type": "code",
   "execution_count": 22,
   "id": "fde9342e",
   "metadata": {},
   "outputs": [
    {
     "name": "stdout",
     "output_type": "stream",
     "text": [
      "[✓] ESC-50 metadata saved to ESC50_metadata.csv\n"
     ]
    }
   ],
   "source": [
    "import pandas as pd\n",
    "import os\n",
    "\n",
    "# Base paths for ESC-50\n",
    "ESC_BASE = os.path.join(\"ESC-50-master\", \"ESC-50-master\")\n",
    "CSV_PATH = os.path.join(ESC_BASE, \"meta\", \"esc50.csv\")\n",
    "AUDIO_DIR = os.path.join(ESC_BASE, \"audio\")\n",
    "\n",
    "# Load the metadata\n",
    "esc_df = pd.read_csv(CSV_PATH)\n",
    "\n",
    "# Create full audio path for each file\n",
    "esc_df['path'] = esc_df['filename'].apply(lambda f: os.path.join(AUDIO_DIR, f))\n",
    "\n",
    "# Match UrbanSound8K format\n",
    "esc_df.rename(columns={'category': 'category'}, inplace=True)\n",
    "esc_df['source'] = 'ESC-50'\n",
    "esc_df = esc_df[['path', 'category', 'source']]\n",
    "\n",
    "# Save to CSV\n",
    "esc_df.to_csv(\"ESC50_metadata.csv\", index=False)\n",
    "print(\"[✓] ESC-50 metadata saved to ESC50_metadata.csv\")\n"
   ]
  },
  {
   "cell_type": "code",
   "execution_count": 24,
   "id": "c991a9b5",
   "metadata": {},
   "outputs": [],
   "source": [
    "urban_df['category'] = urban_df['category'].replace({\n",
    "    \"air_conditioner\": \"air_conditioner\",\n",
    "    \"car_horn\": \"car_horn\",\n",
    "    \"children_playing\": \"children_playing\",\n",
    "    \"dog_bark\": \"dog\",\n",
    "    \"drilling\": \"drilling\",\n",
    "    \"gun_shot\": \"gun_shot\",\n",
    "    \"jackhammer\": \"jackhammer\",\n",
    "    \"siren\": \"siren\",\n",
    "    \"street_music\": \"street_music\"\n",
    "})\n"
   ]
  },
  {
   "cell_type": "code",
   "execution_count": 26,
   "id": "5d58832a",
   "metadata": {},
   "outputs": [
    {
     "name": "stdout",
     "output_type": "stream",
     "text": [
      "Labels in UrbanSound8K not found in ESC-50: ['air_conditioner', 'children_playing', 'drilling', 'engine_idling', 'gun_shot', 'jackhammer', 'street_music']\n"
     ]
    }
   ],
   "source": [
    "# Get ESC-50 label set\n",
    "esc_labels = set(esc_df['category'].unique())\n",
    "\n",
    "# Get UrbanSound8K label set\n",
    "urban_labels = set(urban_df['category'].unique())\n",
    "\n",
    "# Find unexpected extra classes\n",
    "extra_classes = sorted(urban_labels - esc_labels)\n",
    "print(\"Labels in UrbanSound8K not found in ESC-50:\", extra_classes)\n"
   ]
  },
  {
   "cell_type": "code",
   "execution_count": 27,
   "id": "29c43333",
   "metadata": {},
   "outputs": [
    {
     "name": "stdout",
     "output_type": "stream",
     "text": [
      "[✓] Renamed UrbanSound8K categories saved to UrbanSound8K_renamed.csv\n"
     ]
    }
   ],
   "source": [
    "import pandas as pd\n",
    "\n",
    "# Load UrbanSound8K metadata\n",
    "urban_df = pd.read_csv(\"UrbanSound8K_metadata.csv\")\n",
    "\n",
    "# Rename mapping from US8K to ESC-50\n",
    "rename_map = {\n",
    "    \"dog_bark\": \"dog\",\n",
    "    # Others already match or are not changed\n",
    "}\n",
    "\n",
    "# Apply renaming\n",
    "urban_df['category'] = urban_df['category'].replace(rename_map)\n",
    "\n",
    "# Save updated version\n",
    "urban_df.to_csv(\"UrbanSound8K_renamed.csv\", index=False)\n",
    "print(\"[✓] Renamed UrbanSound8K categories saved to UrbanSound8K_renamed.csv\")\n"
   ]
  },
  {
   "cell_type": "code",
   "execution_count": 28,
   "id": "0e31584c",
   "metadata": {},
   "outputs": [
    {
     "name": "stdout",
     "output_type": "stream",
     "text": [
      "[✓] Full merged dataset saved to merged_ESC50_UrbanSound8K.csv\n"
     ]
    }
   ],
   "source": [
    "import pandas as pd\n",
    "\n",
    "# Load original ESC-50 and renamed UrbanSound8K\n",
    "esc_df = pd.read_csv(\"ESC50_metadata.csv\")\n",
    "urban_df = pd.read_csv(\"UrbanSound8K_renamed.csv\")\n",
    "\n",
    "# Merge them\n",
    "merged_df = pd.concat([esc_df, urban_df], ignore_index=True)\n",
    "\n",
    "# Save\n",
    "merged_df.to_csv(\"merged_ESC50_UrbanSound8K.csv\", index=False)\n",
    "print(\"[✓] Full merged dataset saved to merged_ESC50_UrbanSound8K.csv\")\n"
   ]
  },
  {
   "cell_type": "code",
   "execution_count": 29,
   "id": "3439182e",
   "metadata": {},
   "outputs": [
    {
     "name": "stdout",
     "output_type": "stream",
     "text": [
      "category\n",
      "air_conditioner     1000\n",
      "airplane              40\n",
      "breathing             40\n",
      "brushing_teeth        40\n",
      "can_opening           40\n",
      "car_horn             469\n",
      "cat                   40\n",
      "chainsaw              40\n",
      "children_playing    1000\n",
      "chirping_birds        40\n",
      "church_bells          40\n",
      "clapping              40\n",
      "clock_alarm           40\n",
      "clock_tick            40\n",
      "coughing              40\n",
      "cow                   40\n",
      "crackling_fire        40\n",
      "crickets              40\n",
      "crow                  40\n",
      "crying_baby           40\n",
      "dog                 1040\n",
      "door_wood_creaks      40\n",
      "door_wood_knock       40\n",
      "drilling            1000\n",
      "drinking_sipping      40\n",
      "engine                40\n",
      "engine_idling       1000\n",
      "fireworks             40\n",
      "footsteps             40\n",
      "frog                  40\n",
      "glass_breaking        40\n",
      "gun_shot             374\n",
      "hand_saw              40\n",
      "helicopter            40\n",
      "hen                   40\n",
      "insects               40\n",
      "jackhammer          1000\n",
      "keyboard_typing       40\n",
      "laughing              40\n",
      "mouse_click           40\n",
      "pig                   40\n",
      "pouring_water         40\n",
      "rain                  40\n",
      "rooster               40\n",
      "sea_waves             40\n",
      "sheep                 40\n",
      "siren                969\n",
      "sneezing              40\n",
      "snoring               40\n",
      "street_music        1000\n",
      "thunderstorm          40\n",
      "toilet_flush          40\n",
      "train                 40\n",
      "vacuum_cleaner        40\n",
      "washing_machine       40\n",
      "water_drops           40\n",
      "wind                  40\n",
      "Name: count, dtype: int64\n"
     ]
    }
   ],
   "source": [
    "import pandas as pd\n",
    "\n",
    "# Load the metadata you have locally\n",
    "esc_df = pd.read_csv(\"ESC50_metadata.csv\")\n",
    "urban_df = pd.read_csv(\"UrbanSound8K_renamed.csv\")  # This is the one you renamed earlier\n",
    "\n",
    "# Combine them\n",
    "merged_df = pd.concat([esc_df, urban_df], ignore_index=True)\n",
    "\n",
    "\n",
    "# Count and print number of samples per label\n",
    "label_counts = merged_df['category'].value_counts().sort_index()\n",
    "print(label_counts)\n"
   ]
  },
  {
   "cell_type": "code",
   "execution_count": 30,
   "id": "2c1eddab",
   "metadata": {},
   "outputs": [
    {
     "name": "stdout",
     "output_type": "stream",
     "text": [
      "\n",
      "Total unique labels: 57\n"
     ]
    }
   ],
   "source": [
    "print(\"\\nTotal unique labels:\", merged_df['category'].nunique())"
   ]
  },
  {
   "cell_type": "code",
   "execution_count": 33,
   "id": "6f10d4c0",
   "metadata": {},
   "outputs": [
    {
     "name": "stdout",
     "output_type": "stream",
     "text": [
      "\n",
      "✅ Merged dataset saved to 'merged_ESC50_UrbanSound8K.csv'\n"
     ]
    }
   ],
   "source": [
    "# Save merged dataset to CSV\n",
    "merged_df.to_csv(\"merged_ESC50_UrbanSound8K.csv\", index=False)\n",
    "print(\"\\n✅ Merged dataset saved to 'merged_ESC50_UrbanSound8K.csv'\")\n"
   ]
  },
  {
   "cell_type": "code",
   "execution_count": 34,
   "id": "874c3aad",
   "metadata": {},
   "outputs": [
    {
     "name": "stdout",
     "output_type": "stream",
     "text": [
      "YAMNet model loaded successfully!\n"
     ]
    }
   ],
   "source": [
    "import tensorflow_hub as hub\n",
    "import tensorflow as tf\n",
    "\n",
    "yamnet_model_handle = \"https://tfhub.dev/google/yamnet/1\"\n",
    "\n",
    "try:\n",
    "    yamnet_model = hub.load(yamnet_model_handle)\n",
    "    print(\"YAMNet model loaded successfully!\")\n",
    "except Exception as e:\n",
    "    print(\"Failed to load model:\", e)\n"
   ]
  },
  {
   "cell_type": "code",
   "execution_count": 39,
   "id": "04a1aed8",
   "metadata": {},
   "outputs": [
    {
     "name": "stdout",
     "output_type": "stream",
     "text": [
      "🔠 Label map: {'air_conditioner': 0, 'airplane': 1, 'breathing': 2, 'brushing_teeth': 3, 'can_opening': 4, 'car_horn': 5, 'cat': 6, 'chainsaw': 7, 'children_playing': 8, 'chirping_birds': 9, 'church_bells': 10, 'clapping': 11, 'clock_alarm': 12, 'clock_tick': 13, 'coughing': 14, 'cow': 15, 'crackling_fire': 16, 'crickets': 17, 'crow': 18, 'crying_baby': 19, 'dog': 20, 'door_wood_creaks': 21, 'door_wood_knock': 22, 'drilling': 23, 'drinking_sipping': 24, 'engine': 25, 'engine_idling': 26, 'fireworks': 27, 'footsteps': 28, 'frog': 29, 'glass_breaking': 30, 'gun_shot': 31, 'hand_saw': 32, 'helicopter': 33, 'hen': 34, 'insects': 35, 'jackhammer': 36, 'keyboard_typing': 37, 'laughing': 38, 'mouse_click': 39, 'pig': 40, 'pouring_water': 41, 'rain': 42, 'rooster': 43, 'sea_waves': 44, 'sheep': 45, 'siren': 46, 'sneezing': 47, 'snoring': 48, 'street_music': 49, 'thunderstorm': 50, 'toilet_flush': 51, 'train': 52, 'vacuum_cleaner': 53, 'washing_machine': 54, 'water_drops': 55, 'wind': 56}\n",
      "\n",
      "⚖️ Class weights: {0: 0.18828070175438597, 1: 4.707017543859649, 2: 4.707017543859649, 3: 4.707017543859649, 4: 4.707017543859649, 5: 0.4014513896682004, 6: 4.707017543859649, 7: 4.707017543859649, 8: 0.18828070175438597, 9: 4.707017543859649, 10: 4.707017543859649, 11: 4.707017543859649, 12: 4.707017543859649, 13: 4.707017543859649, 14: 4.707017543859649, 15: 4.707017543859649, 16: 4.707017543859649, 17: 4.707017543859649, 18: 4.707017543859649, 19: 4.707017543859649, 20: 0.1810391363022942, 21: 4.707017543859649, 22: 4.707017543859649, 23: 0.18828070175438597, 24: 4.707017543859649, 25: 4.707017543859649, 26: 0.18828070175438597, 27: 4.707017543859649, 28: 4.707017543859649, 29: 4.707017543859649, 30: 4.707017543859649, 31: 0.5034243362416737, 32: 4.707017543859649, 33: 4.707017543859649, 34: 4.707017543859649, 35: 4.707017543859649, 36: 0.18828070175438597, 37: 4.707017543859649, 38: 4.707017543859649, 39: 4.707017543859649, 40: 4.707017543859649, 41: 4.707017543859649, 42: 4.707017543859649, 43: 4.707017543859649, 44: 4.707017543859649, 45: 4.707017543859649, 46: 0.1943041297774881, 47: 4.707017543859649, 48: 4.707017543859649, 49: 0.18828070175438597, 50: 4.707017543859649, 51: 4.707017543859649, 52: 4.707017543859649, 53: 4.707017543859649, 54: 4.707017543859649, 55: 4.707017543859649, 56: 4.707017543859649}\n",
      "\n",
      "✅ Saved: final_merged_with_class_ids.csv\n"
     ]
    }
   ],
   "source": [
    "import pandas as pd\n",
    "from sklearn.preprocessing import LabelEncoder\n",
    "from sklearn.utils.class_weight import compute_class_weight\n",
    "import numpy as np\n",
    "\n",
    "# Load merged CSV\n",
    "df = pd.read_csv(\"merged_ESC50_UrbanSound8K.csv\")\n",
    "\n",
    "# Encode labels to integers\n",
    "label_encoder = LabelEncoder()\n",
    "df['class_id'] = label_encoder.fit_transform(df['category'])\n",
    "\n",
    "# Save label map\n",
    "label_map = dict(zip(label_encoder.classes_, label_encoder.transform(label_encoder.classes_)))\n",
    "print(\"🔠 Label map:\", label_map)\n",
    "\n",
    "# Compute class weights\n",
    "class_weights = compute_class_weight(\n",
    "    class_weight=\"balanced\",\n",
    "    classes=np.unique(df['class_id']),\n",
    "    y=df['class_id']\n",
    ")\n",
    "\n",
    "# Map to dict\n",
    "class_weights_dict = dict(zip(np.unique(df['class_id']), class_weights))\n",
    "print(\"\\n⚖️ Class weights:\", class_weights_dict)\n",
    "\n",
    "# Save updated metadata with class_id\n",
    "df.to_csv(\"final_merged_with_class_ids.csv\", index=False)\n",
    "print(\"\\n✅ Saved: final_merged_with_class_ids.csv\")\n"
   ]
  },
  {
   "cell_type": "code",
   "execution_count": 40,
   "id": "4c0aca4b",
   "metadata": {},
   "outputs": [
    {
     "name": "stderr",
     "output_type": "stream",
     "text": [
      "100%|██████████| 10732/10732 [05:08<00:00, 34.81it/s]"
     ]
    },
    {
     "name": "stdout",
     "output_type": "stream",
     "text": [
      "✅ Done: (10732, 1024) (10732,)\n"
     ]
    },
    {
     "name": "stderr",
     "output_type": "stream",
     "text": [
      "\n"
     ]
    }
   ],
   "source": [
    "import os\n",
    "import numpy as np\n",
    "import pandas as pd\n",
    "import tensorflow as tf\n",
    "import librosa\n",
    "from tqdm import tqdm\n",
    "import tensorflow_hub as hub\n",
    "\n",
    "yamnet_model = hub.load('https://tfhub.dev/google/yamnet/1')\n",
    "\n",
    "df = pd.read_csv(\"final_merged_with_class_ids.csv\")\n",
    "X = []\n",
    "y = []\n",
    "\n",
    "for idx, row in tqdm(df.iterrows(), total=len(df)):\n",
    "    file_path = row['path']\n",
    "    label = row['class_id']  # ✅ use numeric class_id\n",
    "    try:\n",
    "        waveform, sr = librosa.load(file_path, sr=16000, mono=True)\n",
    "        waveform = tf.convert_to_tensor(waveform, dtype=tf.float32)\n",
    "        _, embeddings, _ = yamnet_model(waveform)\n",
    "        mean_embedding = tf.reduce_mean(embeddings, axis=0).numpy()\n",
    "        X.append(mean_embedding)\n",
    "        y.append(label)\n",
    "    except Exception as e:\n",
    "        print(f\"Failed: {file_path} → {e}\")\n",
    "\n",
    "X = np.array(X)\n",
    "y = np.array(y)\n",
    "print(\"✅ Done:\", X.shape, y.shape)\n"
   ]
  },
  {
   "cell_type": "code",
   "execution_count": 41,
   "id": "f30efea8",
   "metadata": {},
   "outputs": [
    {
     "name": "stderr",
     "output_type": "stream",
     "text": [
      "100%|██████████| 10732/10732 [04:38<00:00, 38.48it/s]\n"
     ]
    },
    {
     "name": "stdout",
     "output_type": "stream",
     "text": [
      "✅ Done: (10732, 100, 1024) (10732,)\n"
     ]
    }
   ],
   "source": [
    "MAX_FRAMES = 100\n",
    "X_seq = []\n",
    "y_seq = []\n",
    "\n",
    "for idx, row in tqdm(df.iterrows(), total=len(df)):\n",
    "    file_path = row['path']\n",
    "    label = row['class_id']  # ✅ Corrected from 'category'\n",
    "    try:\n",
    "        waveform, sr = librosa.load(file_path, sr=16000, mono=True)\n",
    "        waveform = tf.convert_to_tensor(waveform, dtype=tf.float32)\n",
    "        _, embeddings, _ = yamnet_model(waveform)\n",
    "        emb_np = embeddings.numpy()\n",
    "        if emb_np.shape[0] < MAX_FRAMES:\n",
    "            pad_width = MAX_FRAMES - emb_np.shape[0]\n",
    "            emb_np = np.pad(emb_np, ((0, pad_width), (0, 0)), mode='constant')\n",
    "        else:\n",
    "            emb_np = emb_np[:MAX_FRAMES, :]\n",
    "        X_seq.append(emb_np)\n",
    "        y_seq.append(label)\n",
    "    except Exception as e:\n",
    "        print(f\"Failed: {file_path} → {e}\")\n",
    "\n",
    "X_seq = np.array(X_seq)\n",
    "y_seq = np.array(y_seq)\n",
    "print(\"✅ Done:\", X_seq.shape, y_seq.shape)\n"
   ]
  },
  {
   "cell_type": "code",
   "execution_count": 42,
   "id": "94d2005b",
   "metadata": {},
   "outputs": [
    {
     "name": "stdout",
     "output_type": "stream",
     "text": [
      "✅ Saved: X_mean.npy, y_mean.npy, X_seq.npy, y_seq.npy\n"
     ]
    }
   ],
   "source": [
    "# Save mean-pooled features\n",
    "np.save(\"X_mean.npy\", X)\n",
    "np.save(\"y_mean.npy\", y)\n",
    "\n",
    "# Save sequence-padded features\n",
    "np.save(\"X_seq.npy\", X_seq)\n",
    "np.save(\"y_seq.npy\", y_seq)\n",
    "\n",
    "print(\"✅ Saved: X_mean.npy, y_mean.npy, X_seq.npy, y_seq.npy\")"
   ]
  }
 ],
 "metadata": {
  "kernelspec": {
   "display_name": "myenv",
   "language": "python",
   "name": "python3"
  },
  "language_info": {
   "codemirror_mode": {
    "name": "ipython",
    "version": 3
   },
   "file_extension": ".py",
   "mimetype": "text/x-python",
   "name": "python",
   "nbconvert_exporter": "python",
   "pygments_lexer": "ipython3",
   "version": "3.10.11"
  }
 },
 "nbformat": 4,
 "nbformat_minor": 5
}
