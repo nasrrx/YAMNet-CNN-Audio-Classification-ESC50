{
 "cells": [
  {
   "cell_type": "code",
   "execution_count": null,
   "id": "1f6477ec",
   "metadata": {},
   "outputs": [
    {
     "ename": "FileNotFoundError",
     "evalue": "[Errno 2] No such file or directory: 'UrbanSound8K\\\\UrbanSound8K\\\\metadata\\\\UrbanSound8K.csv'",
     "output_type": "error",
     "traceback": [
      "\u001b[1;31m---------------------------------------------------------------------------\u001b[0m",
      "\u001b[1;31mFileNotFoundError\u001b[0m                         Traceback (most recent call last)",
      "Cell \u001b[1;32mIn[2], line 10\u001b[0m\n\u001b[0;32m      7\u001b[0m AUDIO_DIR \u001b[38;5;241m=\u001b[39m os\u001b[38;5;241m.\u001b[39mpath\u001b[38;5;241m.\u001b[39mjoin(BASE_DIR, \u001b[38;5;124m\"\u001b[39m\u001b[38;5;124maudio\u001b[39m\u001b[38;5;124m\"\u001b[39m)\n\u001b[0;32m      9\u001b[0m \u001b[38;5;66;03m# Load the metadata\u001b[39;00m\n\u001b[1;32m---> 10\u001b[0m urban_df \u001b[38;5;241m=\u001b[39m \u001b[43mpd\u001b[49m\u001b[38;5;241;43m.\u001b[39;49m\u001b[43mread_csv\u001b[49m\u001b[43m(\u001b[49m\u001b[43mCSV_PATH\u001b[49m\u001b[43m)\u001b[49m\n\u001b[0;32m     12\u001b[0m \u001b[38;5;66;03m# Construct full file paths for each row\u001b[39;00m\n\u001b[0;32m     13\u001b[0m urban_df[\u001b[38;5;124m'\u001b[39m\u001b[38;5;124mpath\u001b[39m\u001b[38;5;124m'\u001b[39m] \u001b[38;5;241m=\u001b[39m urban_df\u001b[38;5;241m.\u001b[39mapply(\n\u001b[0;32m     14\u001b[0m     \u001b[38;5;28;01mlambda\u001b[39;00m row: os\u001b[38;5;241m.\u001b[39mpath\u001b[38;5;241m.\u001b[39mjoin(AUDIO_DIR, \u001b[38;5;124mf\u001b[39m\u001b[38;5;124m\"\u001b[39m\u001b[38;5;124mfold\u001b[39m\u001b[38;5;132;01m{\u001b[39;00mrow[\u001b[38;5;124m'\u001b[39m\u001b[38;5;124mfold\u001b[39m\u001b[38;5;124m'\u001b[39m]\u001b[38;5;132;01m}\u001b[39;00m\u001b[38;5;124m\"\u001b[39m, row[\u001b[38;5;124m'\u001b[39m\u001b[38;5;124mslice_file_name\u001b[39m\u001b[38;5;124m'\u001b[39m]),\n\u001b[0;32m     15\u001b[0m     axis\u001b[38;5;241m=\u001b[39m\u001b[38;5;241m1\u001b[39m\n\u001b[0;32m     16\u001b[0m )\n",
      "File \u001b[1;32mc:\\Users\\nasrr\\Desktop\\myenv\\lib\\site-packages\\pandas\\io\\parsers\\readers.py:1026\u001b[0m, in \u001b[0;36mread_csv\u001b[1;34m(filepath_or_buffer, sep, delimiter, header, names, index_col, usecols, dtype, engine, converters, true_values, false_values, skipinitialspace, skiprows, skipfooter, nrows, na_values, keep_default_na, na_filter, verbose, skip_blank_lines, parse_dates, infer_datetime_format, keep_date_col, date_parser, date_format, dayfirst, cache_dates, iterator, chunksize, compression, thousands, decimal, lineterminator, quotechar, quoting, doublequote, escapechar, comment, encoding, encoding_errors, dialect, on_bad_lines, delim_whitespace, low_memory, memory_map, float_precision, storage_options, dtype_backend)\u001b[0m\n\u001b[0;32m   1013\u001b[0m kwds_defaults \u001b[38;5;241m=\u001b[39m _refine_defaults_read(\n\u001b[0;32m   1014\u001b[0m     dialect,\n\u001b[0;32m   1015\u001b[0m     delimiter,\n\u001b[1;32m   (...)\u001b[0m\n\u001b[0;32m   1022\u001b[0m     dtype_backend\u001b[38;5;241m=\u001b[39mdtype_backend,\n\u001b[0;32m   1023\u001b[0m )\n\u001b[0;32m   1024\u001b[0m kwds\u001b[38;5;241m.\u001b[39mupdate(kwds_defaults)\n\u001b[1;32m-> 1026\u001b[0m \u001b[38;5;28;01mreturn\u001b[39;00m \u001b[43m_read\u001b[49m\u001b[43m(\u001b[49m\u001b[43mfilepath_or_buffer\u001b[49m\u001b[43m,\u001b[49m\u001b[43m \u001b[49m\u001b[43mkwds\u001b[49m\u001b[43m)\u001b[49m\n",
      "File \u001b[1;32mc:\\Users\\nasrr\\Desktop\\myenv\\lib\\site-packages\\pandas\\io\\parsers\\readers.py:620\u001b[0m, in \u001b[0;36m_read\u001b[1;34m(filepath_or_buffer, kwds)\u001b[0m\n\u001b[0;32m    617\u001b[0m _validate_names(kwds\u001b[38;5;241m.\u001b[39mget(\u001b[38;5;124m\"\u001b[39m\u001b[38;5;124mnames\u001b[39m\u001b[38;5;124m\"\u001b[39m, \u001b[38;5;28;01mNone\u001b[39;00m))\n\u001b[0;32m    619\u001b[0m \u001b[38;5;66;03m# Create the parser.\u001b[39;00m\n\u001b[1;32m--> 620\u001b[0m parser \u001b[38;5;241m=\u001b[39m TextFileReader(filepath_or_buffer, \u001b[38;5;241m*\u001b[39m\u001b[38;5;241m*\u001b[39mkwds)\n\u001b[0;32m    622\u001b[0m \u001b[38;5;28;01mif\u001b[39;00m chunksize \u001b[38;5;129;01mor\u001b[39;00m iterator:\n\u001b[0;32m    623\u001b[0m     \u001b[38;5;28;01mreturn\u001b[39;00m parser\n",
      "File \u001b[1;32mc:\\Users\\nasrr\\Desktop\\myenv\\lib\\site-packages\\pandas\\io\\parsers\\readers.py:1620\u001b[0m, in \u001b[0;36mTextFileReader.__init__\u001b[1;34m(self, f, engine, **kwds)\u001b[0m\n\u001b[0;32m   1617\u001b[0m     \u001b[38;5;28mself\u001b[39m\u001b[38;5;241m.\u001b[39moptions[\u001b[38;5;124m\"\u001b[39m\u001b[38;5;124mhas_index_names\u001b[39m\u001b[38;5;124m\"\u001b[39m] \u001b[38;5;241m=\u001b[39m kwds[\u001b[38;5;124m\"\u001b[39m\u001b[38;5;124mhas_index_names\u001b[39m\u001b[38;5;124m\"\u001b[39m]\n\u001b[0;32m   1619\u001b[0m \u001b[38;5;28mself\u001b[39m\u001b[38;5;241m.\u001b[39mhandles: IOHandles \u001b[38;5;241m|\u001b[39m \u001b[38;5;28;01mNone\u001b[39;00m \u001b[38;5;241m=\u001b[39m \u001b[38;5;28;01mNone\u001b[39;00m\n\u001b[1;32m-> 1620\u001b[0m \u001b[38;5;28mself\u001b[39m\u001b[38;5;241m.\u001b[39m_engine \u001b[38;5;241m=\u001b[39m \u001b[38;5;28;43mself\u001b[39;49m\u001b[38;5;241;43m.\u001b[39;49m\u001b[43m_make_engine\u001b[49m\u001b[43m(\u001b[49m\u001b[43mf\u001b[49m\u001b[43m,\u001b[49m\u001b[43m \u001b[49m\u001b[38;5;28;43mself\u001b[39;49m\u001b[38;5;241;43m.\u001b[39;49m\u001b[43mengine\u001b[49m\u001b[43m)\u001b[49m\n",
      "File \u001b[1;32mc:\\Users\\nasrr\\Desktop\\myenv\\lib\\site-packages\\pandas\\io\\parsers\\readers.py:1880\u001b[0m, in \u001b[0;36mTextFileReader._make_engine\u001b[1;34m(self, f, engine)\u001b[0m\n\u001b[0;32m   1878\u001b[0m     \u001b[38;5;28;01mif\u001b[39;00m \u001b[38;5;124m\"\u001b[39m\u001b[38;5;124mb\u001b[39m\u001b[38;5;124m\"\u001b[39m \u001b[38;5;129;01mnot\u001b[39;00m \u001b[38;5;129;01min\u001b[39;00m mode:\n\u001b[0;32m   1879\u001b[0m         mode \u001b[38;5;241m+\u001b[39m\u001b[38;5;241m=\u001b[39m \u001b[38;5;124m\"\u001b[39m\u001b[38;5;124mb\u001b[39m\u001b[38;5;124m\"\u001b[39m\n\u001b[1;32m-> 1880\u001b[0m \u001b[38;5;28mself\u001b[39m\u001b[38;5;241m.\u001b[39mhandles \u001b[38;5;241m=\u001b[39m \u001b[43mget_handle\u001b[49m\u001b[43m(\u001b[49m\n\u001b[0;32m   1881\u001b[0m \u001b[43m    \u001b[49m\u001b[43mf\u001b[49m\u001b[43m,\u001b[49m\n\u001b[0;32m   1882\u001b[0m \u001b[43m    \u001b[49m\u001b[43mmode\u001b[49m\u001b[43m,\u001b[49m\n\u001b[0;32m   1883\u001b[0m \u001b[43m    \u001b[49m\u001b[43mencoding\u001b[49m\u001b[38;5;241;43m=\u001b[39;49m\u001b[38;5;28;43mself\u001b[39;49m\u001b[38;5;241;43m.\u001b[39;49m\u001b[43moptions\u001b[49m\u001b[38;5;241;43m.\u001b[39;49m\u001b[43mget\u001b[49m\u001b[43m(\u001b[49m\u001b[38;5;124;43m\"\u001b[39;49m\u001b[38;5;124;43mencoding\u001b[39;49m\u001b[38;5;124;43m\"\u001b[39;49m\u001b[43m,\u001b[49m\u001b[43m \u001b[49m\u001b[38;5;28;43;01mNone\u001b[39;49;00m\u001b[43m)\u001b[49m\u001b[43m,\u001b[49m\n\u001b[0;32m   1884\u001b[0m \u001b[43m    \u001b[49m\u001b[43mcompression\u001b[49m\u001b[38;5;241;43m=\u001b[39;49m\u001b[38;5;28;43mself\u001b[39;49m\u001b[38;5;241;43m.\u001b[39;49m\u001b[43moptions\u001b[49m\u001b[38;5;241;43m.\u001b[39;49m\u001b[43mget\u001b[49m\u001b[43m(\u001b[49m\u001b[38;5;124;43m\"\u001b[39;49m\u001b[38;5;124;43mcompression\u001b[39;49m\u001b[38;5;124;43m\"\u001b[39;49m\u001b[43m,\u001b[49m\u001b[43m \u001b[49m\u001b[38;5;28;43;01mNone\u001b[39;49;00m\u001b[43m)\u001b[49m\u001b[43m,\u001b[49m\n\u001b[0;32m   1885\u001b[0m \u001b[43m    \u001b[49m\u001b[43mmemory_map\u001b[49m\u001b[38;5;241;43m=\u001b[39;49m\u001b[38;5;28;43mself\u001b[39;49m\u001b[38;5;241;43m.\u001b[39;49m\u001b[43moptions\u001b[49m\u001b[38;5;241;43m.\u001b[39;49m\u001b[43mget\u001b[49m\u001b[43m(\u001b[49m\u001b[38;5;124;43m\"\u001b[39;49m\u001b[38;5;124;43mmemory_map\u001b[39;49m\u001b[38;5;124;43m\"\u001b[39;49m\u001b[43m,\u001b[49m\u001b[43m \u001b[49m\u001b[38;5;28;43;01mFalse\u001b[39;49;00m\u001b[43m)\u001b[49m\u001b[43m,\u001b[49m\n\u001b[0;32m   1886\u001b[0m \u001b[43m    \u001b[49m\u001b[43mis_text\u001b[49m\u001b[38;5;241;43m=\u001b[39;49m\u001b[43mis_text\u001b[49m\u001b[43m,\u001b[49m\n\u001b[0;32m   1887\u001b[0m \u001b[43m    \u001b[49m\u001b[43merrors\u001b[49m\u001b[38;5;241;43m=\u001b[39;49m\u001b[38;5;28;43mself\u001b[39;49m\u001b[38;5;241;43m.\u001b[39;49m\u001b[43moptions\u001b[49m\u001b[38;5;241;43m.\u001b[39;49m\u001b[43mget\u001b[49m\u001b[43m(\u001b[49m\u001b[38;5;124;43m\"\u001b[39;49m\u001b[38;5;124;43mencoding_errors\u001b[39;49m\u001b[38;5;124;43m\"\u001b[39;49m\u001b[43m,\u001b[49m\u001b[43m \u001b[49m\u001b[38;5;124;43m\"\u001b[39;49m\u001b[38;5;124;43mstrict\u001b[39;49m\u001b[38;5;124;43m\"\u001b[39;49m\u001b[43m)\u001b[49m\u001b[43m,\u001b[49m\n\u001b[0;32m   1888\u001b[0m \u001b[43m    \u001b[49m\u001b[43mstorage_options\u001b[49m\u001b[38;5;241;43m=\u001b[39;49m\u001b[38;5;28;43mself\u001b[39;49m\u001b[38;5;241;43m.\u001b[39;49m\u001b[43moptions\u001b[49m\u001b[38;5;241;43m.\u001b[39;49m\u001b[43mget\u001b[49m\u001b[43m(\u001b[49m\u001b[38;5;124;43m\"\u001b[39;49m\u001b[38;5;124;43mstorage_options\u001b[39;49m\u001b[38;5;124;43m\"\u001b[39;49m\u001b[43m,\u001b[49m\u001b[43m \u001b[49m\u001b[38;5;28;43;01mNone\u001b[39;49;00m\u001b[43m)\u001b[49m\u001b[43m,\u001b[49m\n\u001b[0;32m   1889\u001b[0m \u001b[43m\u001b[49m\u001b[43m)\u001b[49m\n\u001b[0;32m   1890\u001b[0m \u001b[38;5;28;01massert\u001b[39;00m \u001b[38;5;28mself\u001b[39m\u001b[38;5;241m.\u001b[39mhandles \u001b[38;5;129;01mis\u001b[39;00m \u001b[38;5;129;01mnot\u001b[39;00m \u001b[38;5;28;01mNone\u001b[39;00m\n\u001b[0;32m   1891\u001b[0m f \u001b[38;5;241m=\u001b[39m \u001b[38;5;28mself\u001b[39m\u001b[38;5;241m.\u001b[39mhandles\u001b[38;5;241m.\u001b[39mhandle\n",
      "File \u001b[1;32mc:\\Users\\nasrr\\Desktop\\myenv\\lib\\site-packages\\pandas\\io\\common.py:873\u001b[0m, in \u001b[0;36mget_handle\u001b[1;34m(path_or_buf, mode, encoding, compression, memory_map, is_text, errors, storage_options)\u001b[0m\n\u001b[0;32m    868\u001b[0m \u001b[38;5;28;01melif\u001b[39;00m \u001b[38;5;28misinstance\u001b[39m(handle, \u001b[38;5;28mstr\u001b[39m):\n\u001b[0;32m    869\u001b[0m     \u001b[38;5;66;03m# Check whether the filename is to be opened in binary mode.\u001b[39;00m\n\u001b[0;32m    870\u001b[0m     \u001b[38;5;66;03m# Binary mode does not support 'encoding' and 'newline'.\u001b[39;00m\n\u001b[0;32m    871\u001b[0m     \u001b[38;5;28;01mif\u001b[39;00m ioargs\u001b[38;5;241m.\u001b[39mencoding \u001b[38;5;129;01mand\u001b[39;00m \u001b[38;5;124m\"\u001b[39m\u001b[38;5;124mb\u001b[39m\u001b[38;5;124m\"\u001b[39m \u001b[38;5;129;01mnot\u001b[39;00m \u001b[38;5;129;01min\u001b[39;00m ioargs\u001b[38;5;241m.\u001b[39mmode:\n\u001b[0;32m    872\u001b[0m         \u001b[38;5;66;03m# Encoding\u001b[39;00m\n\u001b[1;32m--> 873\u001b[0m         handle \u001b[38;5;241m=\u001b[39m \u001b[38;5;28;43mopen\u001b[39;49m\u001b[43m(\u001b[49m\n\u001b[0;32m    874\u001b[0m \u001b[43m            \u001b[49m\u001b[43mhandle\u001b[49m\u001b[43m,\u001b[49m\n\u001b[0;32m    875\u001b[0m \u001b[43m            \u001b[49m\u001b[43mioargs\u001b[49m\u001b[38;5;241;43m.\u001b[39;49m\u001b[43mmode\u001b[49m\u001b[43m,\u001b[49m\n\u001b[0;32m    876\u001b[0m \u001b[43m            \u001b[49m\u001b[43mencoding\u001b[49m\u001b[38;5;241;43m=\u001b[39;49m\u001b[43mioargs\u001b[49m\u001b[38;5;241;43m.\u001b[39;49m\u001b[43mencoding\u001b[49m\u001b[43m,\u001b[49m\n\u001b[0;32m    877\u001b[0m \u001b[43m            \u001b[49m\u001b[43merrors\u001b[49m\u001b[38;5;241;43m=\u001b[39;49m\u001b[43merrors\u001b[49m\u001b[43m,\u001b[49m\n\u001b[0;32m    878\u001b[0m \u001b[43m            \u001b[49m\u001b[43mnewline\u001b[49m\u001b[38;5;241;43m=\u001b[39;49m\u001b[38;5;124;43m\"\u001b[39;49m\u001b[38;5;124;43m\"\u001b[39;49m\u001b[43m,\u001b[49m\n\u001b[0;32m    879\u001b[0m \u001b[43m        \u001b[49m\u001b[43m)\u001b[49m\n\u001b[0;32m    880\u001b[0m     \u001b[38;5;28;01melse\u001b[39;00m:\n\u001b[0;32m    881\u001b[0m         \u001b[38;5;66;03m# Binary mode\u001b[39;00m\n\u001b[0;32m    882\u001b[0m         handle \u001b[38;5;241m=\u001b[39m \u001b[38;5;28mopen\u001b[39m(handle, ioargs\u001b[38;5;241m.\u001b[39mmode)\n",
      "\u001b[1;31mFileNotFoundError\u001b[0m: [Errno 2] No such file or directory: 'UrbanSound8K\\\\UrbanSound8K\\\\metadata\\\\UrbanSound8K.csv'"
     ]
    }
   ],
   "source": [
    "import pandas as pd\n",
    "import os\n",
    "\n",
    "# Base paths\n",
    "BASE_DIR = os.path.join(\"UrbanSound8K\", \"UrbanSound8K\")\n",
    "CSV_PATH = os.path.join(BASE_DIR, \"metadata\", \"UrbanSound8K.csv\")\n",
    "AUDIO_DIR = os.path.join(BASE_DIR, \"audio\")\n",
    "\n",
    "# Load the metadata\n",
    "urban_df = pd.read_csv(CSV_PATH)\n",
    "\n",
    "# Construct full file paths for each row\n",
    "urban_df['path'] = urban_df.apply(\n",
    "    lambda row: os.path.join(AUDIO_DIR, f\"fold{row['fold']}\", row['slice_file_name']),\n",
    "    axis=1\n",
    ")\n",
    "\n",
    "# Rename column for consistency and add source\n",
    "urban_df.rename(columns={'class': 'category'}, inplace=True)\n",
    "urban_df['source'] = 'UrbanSound8K'\n",
    "\n",
    "# Keep only the columns we care about\n",
    "urban_df = urban_df[['path', 'category', 'source']]\n",
    "\n",
    "# Save to file\n",
    "urban_df.to_csv(\"UrbanSound8K_metadata.csv\", index=False)\n",
    "print(\"[✓] Metadata saved to UrbanSound8K_metadata.csv\")\n"
   ]
  },
  {
   "cell_type": "code",
   "execution_count": 22,
   "id": "fde9342e",
   "metadata": {},
   "outputs": [
    {
     "name": "stdout",
     "output_type": "stream",
     "text": [
      "[✓] ESC-50 metadata saved to ESC50_metadata.csv\n"
     ]
    }
   ],
   "source": [
    "import pandas as pd\n",
    "import os\n",
    "\n",
    "# Base paths for ESC-50\n",
    "ESC_BASE = os.path.join(\"ESC-50-master\", \"ESC-50-master\")\n",
    "CSV_PATH = os.path.join(ESC_BASE, \"meta\", \"esc50.csv\")\n",
    "AUDIO_DIR = os.path.join(ESC_BASE, \"audio\")\n",
    "\n",
    "# Load the metadata\n",
    "esc_df = pd.read_csv(CSV_PATH)\n",
    "\n",
    "# Create full audio path for each file\n",
    "esc_df['path'] = esc_df['filename'].apply(lambda f: os.path.join(AUDIO_DIR, f))\n",
    "\n",
    "# Match UrbanSound8K format\n",
    "esc_df.rename(columns={'category': 'category'}, inplace=True)\n",
    "esc_df['source'] = 'ESC-50'\n",
    "esc_df = esc_df[['path', 'category', 'source']]\n",
    "\n",
    "# Save to CSV\n",
    "esc_df.to_csv(\"ESC50_metadata.csv\", index=False)\n",
    "print(\"[✓] ESC-50 metadata saved to ESC50_metadata.csv\")\n"
   ]
  },
  {
   "cell_type": "code",
   "execution_count": 24,
   "id": "c991a9b5",
   "metadata": {},
   "outputs": [],
   "source": [
    "urban_df['category'] = urban_df['category'].replace({\n",
    "    \"air_conditioner\": \"air_conditioner\",\n",
    "    \"car_horn\": \"car_horn\",\n",
    "    \"children_playing\": \"children_playing\",\n",
    "    \"dog_bark\": \"dog\",\n",
    "    \"drilling\": \"drilling\",\n",
    "    \"gun_shot\": \"gun_shot\",\n",
    "    \"jackhammer\": \"jackhammer\",\n",
    "    \"siren\": \"siren\",\n",
    "    \"street_music\": \"street_music\"\n",
    "})\n"
   ]
  },
  {
   "cell_type": "code",
   "execution_count": 26,
   "id": "5d58832a",
   "metadata": {},
   "outputs": [
    {
     "name": "stdout",
     "output_type": "stream",
     "text": [
      "Labels in UrbanSound8K not found in ESC-50: ['air_conditioner', 'children_playing', 'drilling', 'engine_idling', 'gun_shot', 'jackhammer', 'street_music']\n"
     ]
    }
   ],
   "source": [
    "# Get ESC-50 label set\n",
    "esc_labels = set(esc_df['category'].unique())\n",
    "\n",
    "# Get UrbanSound8K label set\n",
    "urban_labels = set(urban_df['category'].unique())\n",
    "\n",
    "# Find unexpected extra classes\n",
    "extra_classes = sorted(urban_labels - esc_labels)\n",
    "print(\"Labels in UrbanSound8K not found in ESC-50:\", extra_classes)\n"
   ]
  },
  {
   "cell_type": "code",
   "execution_count": 27,
   "id": "29c43333",
   "metadata": {},
   "outputs": [
    {
     "name": "stdout",
     "output_type": "stream",
     "text": [
      "[✓] Renamed UrbanSound8K categories saved to UrbanSound8K_renamed.csv\n"
     ]
    }
   ],
   "source": [
    "import pandas as pd\n",
    "\n",
    "# Load UrbanSound8K metadata\n",
    "urban_df = pd.read_csv(\"UrbanSound8K_metadata.csv\")\n",
    "\n",
    "# Rename mapping from US8K to ESC-50\n",
    "rename_map = {\n",
    "    \"dog_bark\": \"dog\",\n",
    "    # Others already match or are not changed\n",
    "}\n",
    "\n",
    "# Apply renaming\n",
    "urban_df['category'] = urban_df['category'].replace(rename_map)\n",
    "\n",
    "# Save updated version\n",
    "urban_df.to_csv(\"UrbanSound8K_renamed.csv\", index=False)\n",
    "print(\"[✓] Renamed UrbanSound8K categories saved to UrbanSound8K_renamed.csv\")\n"
   ]
  },
  {
   "cell_type": "code",
   "execution_count": 28,
   "id": "0e31584c",
   "metadata": {},
   "outputs": [
    {
     "name": "stdout",
     "output_type": "stream",
     "text": [
      "[✓] Full merged dataset saved to merged_ESC50_UrbanSound8K.csv\n"
     ]
    }
   ],
   "source": [
    "import pandas as pd\n",
    "\n",
    "# Load original ESC-50 and renamed UrbanSound8K\n",
    "esc_df = pd.read_csv(\"ESC50_metadata.csv\")\n",
    "urban_df = pd.read_csv(\"UrbanSound8K_renamed.csv\")\n",
    "\n",
    "# Merge them\n",
    "merged_df = pd.concat([esc_df, urban_df], ignore_index=True)\n",
    "\n",
    "# Save\n",
    "merged_df.to_csv(\"merged_ESC50_UrbanSound8K.csv\", index=False)\n",
    "print(\"[✓] Full merged dataset saved to merged_ESC50_UrbanSound8K.csv\")\n"
   ]
  },
  {
   "cell_type": "code",
   "execution_count": 29,
   "id": "3439182e",
   "metadata": {},
   "outputs": [
    {
     "name": "stdout",
     "output_type": "stream",
     "text": [
      "category\n",
      "air_conditioner     1000\n",
      "airplane              40\n",
      "breathing             40\n",
      "brushing_teeth        40\n",
      "can_opening           40\n",
      "car_horn             469\n",
      "cat                   40\n",
      "chainsaw              40\n",
      "children_playing    1000\n",
      "chirping_birds        40\n",
      "church_bells          40\n",
      "clapping              40\n",
      "clock_alarm           40\n",
      "clock_tick            40\n",
      "coughing              40\n",
      "cow                   40\n",
      "crackling_fire        40\n",
      "crickets              40\n",
      "crow                  40\n",
      "crying_baby           40\n",
      "dog                 1040\n",
      "door_wood_creaks      40\n",
      "door_wood_knock       40\n",
      "drilling            1000\n",
      "drinking_sipping      40\n",
      "engine                40\n",
      "engine_idling       1000\n",
      "fireworks             40\n",
      "footsteps             40\n",
      "frog                  40\n",
      "glass_breaking        40\n",
      "gun_shot             374\n",
      "hand_saw              40\n",
      "helicopter            40\n",
      "hen                   40\n",
      "insects               40\n",
      "jackhammer          1000\n",
      "keyboard_typing       40\n",
      "laughing              40\n",
      "mouse_click           40\n",
      "pig                   40\n",
      "pouring_water         40\n",
      "rain                  40\n",
      "rooster               40\n",
      "sea_waves             40\n",
      "sheep                 40\n",
      "siren                969\n",
      "sneezing              40\n",
      "snoring               40\n",
      "street_music        1000\n",
      "thunderstorm          40\n",
      "toilet_flush          40\n",
      "train                 40\n",
      "vacuum_cleaner        40\n",
      "washing_machine       40\n",
      "water_drops           40\n",
      "wind                  40\n",
      "Name: count, dtype: int64\n"
     ]
    }
   ],
   "source": [
    "import pandas as pd\n",
    "\n",
    "# Load the metadata you have locally\n",
    "esc_df = pd.read_csv(\"ESC50_metadata.csv\")\n",
    "urban_df = pd.read_csv(\"UrbanSound8K_renamed.csv\")  # This is the one you renamed earlier\n",
    "\n",
    "# Combine them\n",
    "merged_df = pd.concat([esc_df, urban_df], ignore_index=True)\n",
    "\n",
    "\n",
    "# Count and print number of samples per label\n",
    "label_counts = merged_df['category'].value_counts().sort_index()\n",
    "print(label_counts)\n"
   ]
  },
  {
   "cell_type": "code",
   "execution_count": 30,
   "id": "2c1eddab",
   "metadata": {},
   "outputs": [
    {
     "name": "stdout",
     "output_type": "stream",
     "text": [
      "\n",
      "Total unique labels: 57\n"
     ]
    }
   ],
   "source": [
    "print(\"\\nTotal unique labels:\", merged_df['category'].nunique())"
   ]
  },
  {
   "cell_type": "code",
   "execution_count": 33,
   "id": "6f10d4c0",
   "metadata": {},
   "outputs": [
    {
     "name": "stdout",
     "output_type": "stream",
     "text": [
      "\n",
      "✅ Merged dataset saved to 'merged_ESC50_UrbanSound8K.csv'\n"
     ]
    }
   ],
   "source": [
    "# Save merged dataset to CSV\n",
    "merged_df.to_csv(\"merged_ESC50_UrbanSound8K.csv\", index=False)\n",
    "print(\"\\n✅ Merged dataset saved to 'merged_ESC50_UrbanSound8K.csv'\")\n"
   ]
  },
  {
   "cell_type": "code",
   "execution_count": 34,
   "id": "874c3aad",
   "metadata": {},
   "outputs": [
    {
     "name": "stdout",
     "output_type": "stream",
     "text": [
      "YAMNet model loaded successfully!\n"
     ]
    }
   ],
   "source": [
    "import tensorflow_hub as hub\n",
    "import tensorflow as tf\n",
    "\n",
    "yamnet_model_handle = \"https://tfhub.dev/google/yamnet/1\"\n",
    "\n",
    "try:\n",
    "    yamnet_model = hub.load(yamnet_model_handle)\n",
    "    print(\"YAMNet model loaded successfully!\")\n",
    "except Exception as e:\n",
    "    print(\"Failed to load model:\", e)\n"
   ]
  },
  {
   "cell_type": "code",
   "execution_count": 39,
   "id": "04a1aed8",
   "metadata": {},
   "outputs": [
    {
     "name": "stdout",
     "output_type": "stream",
     "text": [
      "🔠 Label map: {'air_conditioner': 0, 'airplane': 1, 'breathing': 2, 'brushing_teeth': 3, 'can_opening': 4, 'car_horn': 5, 'cat': 6, 'chainsaw': 7, 'children_playing': 8, 'chirping_birds': 9, 'church_bells': 10, 'clapping': 11, 'clock_alarm': 12, 'clock_tick': 13, 'coughing': 14, 'cow': 15, 'crackling_fire': 16, 'crickets': 17, 'crow': 18, 'crying_baby': 19, 'dog': 20, 'door_wood_creaks': 21, 'door_wood_knock': 22, 'drilling': 23, 'drinking_sipping': 24, 'engine': 25, 'engine_idling': 26, 'fireworks': 27, 'footsteps': 28, 'frog': 29, 'glass_breaking': 30, 'gun_shot': 31, 'hand_saw': 32, 'helicopter': 33, 'hen': 34, 'insects': 35, 'jackhammer': 36, 'keyboard_typing': 37, 'laughing': 38, 'mouse_click': 39, 'pig': 40, 'pouring_water': 41, 'rain': 42, 'rooster': 43, 'sea_waves': 44, 'sheep': 45, 'siren': 46, 'sneezing': 47, 'snoring': 48, 'street_music': 49, 'thunderstorm': 50, 'toilet_flush': 51, 'train': 52, 'vacuum_cleaner': 53, 'washing_machine': 54, 'water_drops': 55, 'wind': 56}\n",
      "\n",
      "⚖️ Class weights: {0: 0.18828070175438597, 1: 4.707017543859649, 2: 4.707017543859649, 3: 4.707017543859649, 4: 4.707017543859649, 5: 0.4014513896682004, 6: 4.707017543859649, 7: 4.707017543859649, 8: 0.18828070175438597, 9: 4.707017543859649, 10: 4.707017543859649, 11: 4.707017543859649, 12: 4.707017543859649, 13: 4.707017543859649, 14: 4.707017543859649, 15: 4.707017543859649, 16: 4.707017543859649, 17: 4.707017543859649, 18: 4.707017543859649, 19: 4.707017543859649, 20: 0.1810391363022942, 21: 4.707017543859649, 22: 4.707017543859649, 23: 0.18828070175438597, 24: 4.707017543859649, 25: 4.707017543859649, 26: 0.18828070175438597, 27: 4.707017543859649, 28: 4.707017543859649, 29: 4.707017543859649, 30: 4.707017543859649, 31: 0.5034243362416737, 32: 4.707017543859649, 33: 4.707017543859649, 34: 4.707017543859649, 35: 4.707017543859649, 36: 0.18828070175438597, 37: 4.707017543859649, 38: 4.707017543859649, 39: 4.707017543859649, 40: 4.707017543859649, 41: 4.707017543859649, 42: 4.707017543859649, 43: 4.707017543859649, 44: 4.707017543859649, 45: 4.707017543859649, 46: 0.1943041297774881, 47: 4.707017543859649, 48: 4.707017543859649, 49: 0.18828070175438597, 50: 4.707017543859649, 51: 4.707017543859649, 52: 4.707017543859649, 53: 4.707017543859649, 54: 4.707017543859649, 55: 4.707017543859649, 56: 4.707017543859649}\n",
      "\n",
      "✅ Saved: final_merged_with_class_ids.csv\n"
     ]
    }
   ],
   "source": [
    "import pandas as pd\n",
    "from sklearn.preprocessing import LabelEncoder\n",
    "from sklearn.utils.class_weight import compute_class_weight\n",
    "import numpy as np\n",
    "\n",
    "# Load merged CSV\n",
    "df = pd.read_csv(\"merged_ESC50_UrbanSound8K.csv\")\n",
    "\n",
    "# Encode labels to integers\n",
    "label_encoder = LabelEncoder()\n",
    "df['class_id'] = label_encoder.fit_transform(df['category'])\n",
    "\n",
    "# Save label map\n",
    "label_map = dict(zip(label_encoder.classes_, label_encoder.transform(label_encoder.classes_)))\n",
    "print(\"🔠 Label map:\", label_map)\n",
    "\n",
    "# Compute class weights\n",
    "class_weights = compute_class_weight(\n",
    "    class_weight=\"balanced\",\n",
    "    classes=np.unique(df['class_id']),\n",
    "    y=df['class_id']\n",
    ")\n",
    "\n",
    "# Map to dict\n",
    "class_weights_dict = dict(zip(np.unique(df['class_id']), class_weights))\n",
    "print(\"\\n⚖️ Class weights:\", class_weights_dict)\n",
    "\n",
    "# Save updated metadata with class_id\n",
    "df.to_csv(\"final_merged_with_class_ids.csv\", index=False)\n",
    "print(\"\\n✅ Saved: final_merged_with_class_ids.csv\")\n"
   ]
  },
  {
   "cell_type": "code",
   "execution_count": 40,
   "id": "4c0aca4b",
   "metadata": {},
   "outputs": [
    {
     "name": "stderr",
     "output_type": "stream",
     "text": [
      "100%|██████████| 10732/10732 [05:08<00:00, 34.81it/s]"
     ]
    },
    {
     "name": "stdout",
     "output_type": "stream",
     "text": [
      "✅ Done: (10732, 1024) (10732,)\n"
     ]
    },
    {
     "name": "stderr",
     "output_type": "stream",
     "text": [
      "\n"
     ]
    }
   ],
   "source": [
    "import os\n",
    "import numpy as np\n",
    "import pandas as pd\n",
    "import tensorflow as tf\n",
    "import librosa\n",
    "from tqdm import tqdm\n",
    "import tensorflow_hub as hub\n",
    "\n",
    "yamnet_model = hub.load('https://tfhub.dev/google/yamnet/1')\n",
    "\n",
    "df = pd.read_csv(\"final_merged_with_class_ids.csv\")\n",
    "X = []\n",
    "y = []\n",
    "\n",
    "for idx, row in tqdm(df.iterrows(), total=len(df)):\n",
    "    file_path = row['path']\n",
    "    label = row['class_id']  # ✅ use numeric class_id\n",
    "    try:\n",
    "        waveform, sr = librosa.load(file_path, sr=16000, mono=True)\n",
    "        waveform = tf.convert_to_tensor(waveform, dtype=tf.float32)\n",
    "        _, embeddings, _ = yamnet_model(waveform)\n",
    "        mean_embedding = tf.reduce_mean(embeddings, axis=0).numpy()\n",
    "        X.append(mean_embedding)\n",
    "        y.append(label)\n",
    "    except Exception as e:\n",
    "        print(f\"Failed: {file_path} → {e}\")\n",
    "\n",
    "X = np.array(X)\n",
    "y = np.array(y)\n",
    "print(\"✅ Done:\", X.shape, y.shape)\n"
   ]
  },
  {
   "cell_type": "code",
   "execution_count": 41,
   "id": "f30efea8",
   "metadata": {},
   "outputs": [
    {
     "name": "stderr",
     "output_type": "stream",
     "text": [
      "100%|██████████| 10732/10732 [04:38<00:00, 38.48it/s]\n"
     ]
    },
    {
     "name": "stdout",
     "output_type": "stream",
     "text": [
      "✅ Done: (10732, 100, 1024) (10732,)\n"
     ]
    }
   ],
   "source": [
    "MAX_FRAMES = 100\n",
    "X_seq = []\n",
    "y_seq = []\n",
    "\n",
    "for idx, row in tqdm(df.iterrows(), total=len(df)):\n",
    "    file_path = row['path']\n",
    "    label = row['class_id']  # ✅ Corrected from 'category'\n",
    "    try:\n",
    "        waveform, sr = librosa.load(file_path, sr=16000, mono=True)\n",
    "        waveform = tf.convert_to_tensor(waveform, dtype=tf.float32)\n",
    "        _, embeddings, _ = yamnet_model(waveform)\n",
    "        emb_np = embeddings.numpy()\n",
    "        if emb_np.shape[0] < MAX_FRAMES:\n",
    "            pad_width = MAX_FRAMES - emb_np.shape[0]\n",
    "            emb_np = np.pad(emb_np, ((0, pad_width), (0, 0)), mode='constant')\n",
    "        else:\n",
    "            emb_np = emb_np[:MAX_FRAMES, :]\n",
    "        X_seq.append(emb_np)\n",
    "        y_seq.append(label)\n",
    "    except Exception as e:\n",
    "        print(f\"Failed: {file_path} → {e}\")\n",
    "\n",
    "X_seq = np.array(X_seq)\n",
    "y_seq = np.array(y_seq)\n",
    "print(\"✅ Done:\", X_seq.shape, y_seq.shape)\n"
   ]
  },
  {
   "cell_type": "code",
   "execution_count": 42,
   "id": "94d2005b",
   "metadata": {},
   "outputs": [
    {
     "name": "stdout",
     "output_type": "stream",
     "text": [
      "✅ Saved: X_mean.npy, y_mean.npy, X_seq.npy, y_seq.npy\n"
     ]
    }
   ],
   "source": [
    "# Save mean-pooled features\n",
    "np.save(\"X_mean.npy\", X)\n",
    "np.save(\"y_mean.npy\", y)\n",
    "\n",
    "# Save sequence-padded features\n",
    "np.save(\"X_seq.npy\", X_seq)\n",
    "np.save(\"y_seq.npy\", y_seq)\n",
    "\n",
    "print(\"✅ Saved: X_mean.npy, y_mean.npy, X_seq.npy, y_seq.npy\")"
   ]
  }
 ],
 "metadata": {
  "kernelspec": {
   "display_name": "myenv",
   "language": "python",
   "name": "python3"
  },
  "language_info": {
   "codemirror_mode": {
    "name": "ipython",
    "version": 3
   },
   "file_extension": ".py",
   "mimetype": "text/x-python",
   "name": "python",
   "nbconvert_exporter": "python",
   "pygments_lexer": "ipython3",
   "version": "3.10.11"
  }
 },
 "nbformat": 4,
 "nbformat_minor": 5
}
