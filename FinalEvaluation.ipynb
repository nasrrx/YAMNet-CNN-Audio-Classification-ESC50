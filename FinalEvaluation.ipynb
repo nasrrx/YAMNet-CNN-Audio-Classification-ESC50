{
 "cells": [
  {
   "cell_type": "code",
   "execution_count": 3,
   "id": "f39e6970",
   "metadata": {},
   "outputs": [
    {
     "name": "stdout",
     "output_type": "stream",
     "text": [
      "WARNING:tensorflow:From c:\\Users\\nasrr\\Desktop\\myenv\\lib\\site-packages\\tf_keras\\src\\losses.py:2976: The name tf.losses.sparse_softmax_cross_entropy is deprecated. Please use tf.compat.v1.losses.sparse_softmax_cross_entropy instead.\n",
      "\n"
     ]
    }
   ],
   "source": [
    "import os\n",
    "import numpy as np\n",
    "import pandas as pd\n",
    "import tensorflow as tf\n",
    "import tensorflow_hub as hub\n",
    "import librosa\n",
    "from tqdm import tqdm\n",
    "from sklearn.model_selection import train_test_split\n",
    "from sklearn.linear_model import LogisticRegression\n",
    "from sklearn.metrics import accuracy_score, classification_report\n"
   ]
  },
  {
   "cell_type": "code",
   "execution_count": 4,
   "id": "667d5f6b",
   "metadata": {},
   "outputs": [
    {
     "name": "stdout",
     "output_type": "stream",
     "text": [
      "            filename  fold  target        category  esc10  src_file take\n",
      "0   1-100032-A-0.wav     1       0             dog   True    100032    A\n",
      "1  1-100038-A-14.wav     1      14  chirping_birds  False    100038    A\n",
      "2  1-100210-A-36.wav     1      36  vacuum_cleaner  False    100210    A\n",
      "3  1-100210-B-36.wav     1      36  vacuum_cleaner  False    100210    B\n",
      "4  1-101296-A-19.wav     1      19    thunderstorm  False    101296    A\n"
     ]
    }
   ],
   "source": [
    "# 📁 Step 3: Load ESC-50 CSV\n",
    "# ✅ Update these paths with your actual file structure\n",
    "CSV_PATH = r'C:\\Users\\nasrr\\Desktop\\CNN_Farah\\Farah\\ESC-50-master\\ESC-50-master\\meta\\esc50.csv'\n",
    "AUDIO_PATH = r'C:\\Users\\nasrr\\Desktop\\CNN_Farah\\Farah\\ESC-50-master\\ESC-50-master\\audio'\n",
    "\n",
    "\n",
    "df = pd.read_csv(CSV_PATH)\n",
    "print(df.head())"
   ]
  },
  {
   "cell_type": "code",
   "execution_count": 5,
   "id": "148c6eda",
   "metadata": {},
   "outputs": [
    {
     "name": "stdout",
     "output_type": "stream",
     "text": [
      "WARNING:tensorflow:From c:\\Users\\nasrr\\Desktop\\myenv\\lib\\site-packages\\tensorflow_hub\\resolver.py:120: The name tf.gfile.MakeDirs is deprecated. Please use tf.io.gfile.makedirs instead.\n",
      "\n"
     ]
    },
    {
     "name": "stderr",
     "output_type": "stream",
     "text": [
      "WARNING:tensorflow:From c:\\Users\\nasrr\\Desktop\\myenv\\lib\\site-packages\\tensorflow_hub\\resolver.py:120: The name tf.gfile.MakeDirs is deprecated. Please use tf.io.gfile.makedirs instead.\n",
      "\n"
     ]
    },
    {
     "name": "stdout",
     "output_type": "stream",
     "text": [
      "WARNING:tensorflow:From c:\\Users\\nasrr\\Desktop\\myenv\\lib\\site-packages\\tensorflow_hub\\module_v2.py:126: The name tf.saved_model.load_v2 is deprecated. Please use tf.compat.v2.saved_model.load instead.\n",
      "\n"
     ]
    },
    {
     "name": "stderr",
     "output_type": "stream",
     "text": [
      "WARNING:tensorflow:From c:\\Users\\nasrr\\Desktop\\myenv\\lib\\site-packages\\tensorflow_hub\\module_v2.py:126: The name tf.saved_model.load_v2 is deprecated. Please use tf.compat.v2.saved_model.load instead.\n",
      "\n"
     ]
    }
   ],
   "source": [
    "# 🔉 Step 4: Load YAMNet model\n",
    "yamnet_model = hub.load('https://tfhub.dev/google/yamnet/1')\n"
   ]
  },
  {
   "cell_type": "code",
   "execution_count": null,
   "id": "424311db",
   "metadata": {},
   "outputs": [
    {
     "name": "stderr",
     "output_type": "stream",
     "text": [
      "100%|██████████| 2000/2000 [01:07<00:00, 29.44it/s]"
     ]
    },
    {
     "name": "stdout",
     "output_type": "stream",
     "text": [
      "✅ Done:  (2000, 1024) (2000,)\n"
     ]
    },
    {
     "name": "stderr",
     "output_type": "stream",
     "text": [
      "\n"
     ]
    }
   ],
   "source": [
    "# 🎧 Step 5: Convert audio to embeddings (X) and labels (y)\n",
    "X = []\n",
    "y = []\n",
    "\n",
    "for idx, row in tqdm(df.iterrows(), total=len(df)):\n",
    "    file_path = os.path.join(AUDIO_PATH, row['filename'])\n",
    "    label = row['target']\n",
    "\n",
    "    try:\n",
    "        waveform, sr = librosa.load(file_path, sr=16000, mono=True)\n",
    "        waveform = tf.convert_to_tensor(waveform, dtype=tf.float32)\n",
    "\n",
    "        _, embeddings, _ = yamnet_model(waveform)\n",
    "        mean_embedding = tf.reduce_mean(embeddings, axis=0).numpy()\n",
    "\n",
    "        X.append(mean_embedding)\n",
    "        y.append(label)\n",
    "    except Exception as e:\n",
    "        print(f\"Failed: {file_path} → {e}\")\n",
    "\n",
    "X = np.array(X)\n",
    "y = np.array(y)\n",
    "\n",
    "print(\"✅ Done: \", X.shape, y.shape)\n"
   ]
  },
  {
   "cell_type": "code",
   "execution_count": null,
   "id": "fc3a9482",
   "metadata": {},
   "outputs": [
    {
     "name": "stdout",
     "output_type": "stream",
     "text": [
      "Train: (1600, 1024) Test: (400, 1024)\n"
     ]
    }
   ],
   "source": [
    "# 🧠 Step 6: Train/Test Split\n",
    "X_train, X_test, y_train, y_test = train_test_split(\n",
    "    X, y, test_size=0.2, stratify=y, random_state=42)\n",
    "\n",
    "print(\"Train:\", X_train.shape, \"Test:\", X_test.shape)"
   ]
  },
  {
   "cell_type": "code",
   "execution_count": 9,
   "id": "7e2c7978",
   "metadata": {},
   "outputs": [],
   "source": [
    "import torchaudio.transforms as T\n",
    "import torch\n",
    "\n",
    "augment = torch.nn.Sequential(\n",
    "    T.FrequencyMasking(freq_mask_param=10),\n",
    "    T.TimeMasking(time_mask_param=20)\n",
    ")\n"
   ]
  },
  {
   "cell_type": "code",
   "execution_count": 16,
   "id": "5663b9de",
   "metadata": {},
   "outputs": [
    {
     "name": "stderr",
     "output_type": "stream",
     "text": [
      "100%|██████████| 2000/2000 [00:59<00:00, 33.54it/s]\n"
     ]
    }
   ],
   "source": [
    "MAX_FRAMES = 100  # We'll fix all embeddings to this length\n",
    "\n",
    "X_seq = []\n",
    "y_seq = []\n",
    "\n",
    "for idx, row in tqdm(df.iterrows(), total=len(df)):\n",
    "    file_path = os.path.join(AUDIO_PATH, row['filename'])\n",
    "    label = row['target']\n",
    "\n",
    "    try:\n",
    "        waveform, sr = librosa.load(file_path, sr=16000, mono=True)\n",
    "        waveform = tf.convert_to_tensor(waveform, dtype=tf.float32)\n",
    "\n",
    "        _, embeddings, _ = yamnet_model(waveform)\n",
    "        emb_np = embeddings.numpy()  # shape: (frames, 1024)\n",
    "\n",
    "        # Pad/truncate to MAX_FRAMES\n",
    "        if emb_np.shape[0] < MAX_FRAMES:\n",
    "            pad_width = MAX_FRAMES - emb_np.shape[0]\n",
    "            emb_np = np.pad(emb_np, ((0, pad_width), (0, 0)), mode='constant')\n",
    "        else:\n",
    "            emb_np = emb_np[:MAX_FRAMES, :]\n",
    "\n",
    "        X_seq.append(emb_np)\n",
    "        y_seq.append(label)\n",
    "\n",
    "    except Exception as e:\n",
    "        print(f\"Failed: {file_path} → {e}\")\n",
    "\n",
    "X_seq = np.array(X_seq)  # shape: (N, 100, 1024)\n",
    "y_seq = np.array(y_seq)"
   ]
  },
  {
   "cell_type": "code",
   "execution_count": 17,
   "id": "cb4aae4d",
   "metadata": {},
   "outputs": [],
   "source": [
    "import torch\n",
    "import torch.nn as nn\n",
    "from torch.utils.data import DataLoader, TensorDataset, random_split\n",
    "from sklearn.model_selection import train_test_split\n",
    "from sklearn.metrics import accuracy_score, classification_report\n",
    "\n",
    "# Train/Test split\n",
    "X_train, X_test, y_train, y_test = train_test_split(X_seq, y_seq, test_size=0.2, stratify=y_seq, random_state=42)\n",
    "\n",
    "# Convert to PyTorch tensors\n",
    "X_train = torch.tensor(X_train, dtype=torch.float32)\n",
    "X_test = torch.tensor(X_test, dtype=torch.float32)\n",
    "y_train = torch.tensor(y_train, dtype=torch.long)\n",
    "y_test = torch.tensor(y_test, dtype=torch.long)\n",
    "\n",
    "# DataLoaders\n",
    "train_ds = TensorDataset(X_train, y_train)\n",
    "test_ds = TensorDataset(X_test, y_test)\n",
    "from torch.utils.data import random_split\n",
    "\n",
    "val_pct = 0.1\n",
    "val_size = int(val_pct * len(train_ds))\n",
    "train_size = len(train_ds) - val_size\n",
    "\n",
    "train_set, val_set = random_split(train_ds, [train_size, val_size])\n",
    "train_loader = DataLoader(train_set, batch_size=32, shuffle=True)\n",
    "val_loader = DataLoader(val_set, batch_size=32)\n",
    "\n",
    "test_loader = DataLoader(test_ds, batch_size=32)\n"
   ]
  },
  {
   "cell_type": "code",
   "execution_count": 18,
   "id": "a9733b7d",
   "metadata": {},
   "outputs": [],
   "source": [
    "import torch\n",
    "import torch.nn as nn\n",
    "import torch.nn.functional as F\n",
    "\n",
    "class YAMNet1DCNN_Improved(nn.Module):\n",
    "    def __init__(self, num_classes=50):\n",
    "        super().__init__()\n",
    "        self.conv1 = nn.Conv1d(1024, 512, kernel_size=5, padding=2)\n",
    "        self.bn1 = nn.BatchNorm1d(512)\n",
    "        self.pool1 = nn.MaxPool1d(2)\n",
    "\n",
    "        self.conv2 = nn.Conv1d(512, 256, kernel_size=5, padding=2)\n",
    "        self.bn2 = nn.BatchNorm1d(256)\n",
    "        self.pool2 = nn.MaxPool1d(2)\n",
    "\n",
    "        self.conv3 = nn.Conv1d(256, 128, kernel_size=3, padding=1)\n",
    "        self.bn3 = nn.BatchNorm1d(128)\n",
    "\n",
    "        self.global_pool = nn.AdaptiveAvgPool1d(1)\n",
    "        self.dropout = nn.Dropout(0.75)  # Slightly higher for better regularization\n",
    "        self.fc = nn.Linear(128, num_classes)\n",
    "\n",
    "        self._init_weights()\n",
    "\n",
    "    def _init_weights(self):\n",
    "        for m in self.modules():\n",
    "            if isinstance(m, nn.Conv1d):\n",
    "                nn.init.kaiming_normal_(m.weight, nonlinearity='relu')\n",
    "                if m.bias is not None:\n",
    "                    nn.init.zeros_(m.bias)\n",
    "            elif isinstance(m, nn.Linear):\n",
    "                nn.init.xavier_uniform_(m.weight)\n",
    "                nn.init.zeros_(m.bias)\n",
    "\n",
    "    def forward(self, x):\n",
    "        x = x.permute(0, 2, 1)  # (B, 100, 1024) → (B, 1024, 100)\n",
    "        x = self.pool1(F.gelu(self.bn1(self.conv1(x))))\n",
    "        x = self.pool2(F.gelu(self.bn2(self.conv2(x))))\n",
    "        x = F.gelu(self.bn3(self.conv3(x)))\n",
    "        x = self.global_pool(x).squeeze(-1)\n",
    "        x = self.dropout(x)\n",
    "        return self.fc(x)\n"
   ]
  },
  {
   "cell_type": "code",
   "execution_count": 19,
   "id": "b84025f2",
   "metadata": {},
   "outputs": [],
   "source": [
    "device = torch.device(\"cuda\" if torch.cuda.is_available() else \"cpu\")\n",
    "model = YAMNet1DCNN_Improved().to(device)"
   ]
  },
  {
   "cell_type": "code",
   "execution_count": 20,
   "id": "91a0d584",
   "metadata": {},
   "outputs": [
    {
     "name": "stderr",
     "output_type": "stream",
     "text": [
      "Testing Model_Final.pt: 100%|██████████| 13/13 [00:00<00:00, 19.02it/s]"
     ]
    },
    {
     "name": "stdout",
     "output_type": "stream",
     "text": [
      "\n",
      "📊 Model Comparison Results:\n",
      "Model_Final.pt                      → Test Accuracy: 89.75%\n"
     ]
    },
    {
     "name": "stderr",
     "output_type": "stream",
     "text": [
      "\n"
     ]
    }
   ],
   "source": [
    "import os\n",
    "import re\n",
    "import torch\n",
    "from tqdm import tqdm\n",
    "from sklearn.metrics import accuracy_score\n",
    "\n",
    "model_class = YAMNet1DCNN_Improved\n",
    "device = torch.device(\"cuda\" if torch.cuda.is_available() else \"cpu\")\n",
    "\n",
    "# Match all model files like Model_91_25_Epoch58.pt\n",
    "model_files = [f for f in os.listdir() if f.startswith(\"Model_\") and f.endswith(\".pt\")]\n",
    "\n",
    "# Optional: sort by val_acc descending (if filenames use Model_91_88_Epoch58.pt format)\n",
    "def extract_val_acc(file):\n",
    "    match = re.search(r'Model_(\\d+)_(\\d+)', file)\n",
    "    if match:\n",
    "        major, minor = match.groups()\n",
    "        return float(f\"{major}.{minor}\")\n",
    "    return 0\n",
    "\n",
    "model_files.sort(key=extract_val_acc, reverse=True)\n",
    "\n",
    "results = []\n",
    "\n",
    "for model_file in model_files:\n",
    "    model = model_class().to(device)\n",
    "    model.load_state_dict(torch.load(model_file))\n",
    "    model.eval()\n",
    "\n",
    "    all_preds = []\n",
    "    all_labels = []\n",
    "\n",
    "    with torch.no_grad():\n",
    "        for xb, yb in tqdm(test_loader, desc=f\"Testing {model_file}\"):\n",
    "            xb = xb.to(device)\n",
    "            preds = model(xb)\n",
    "            all_preds.extend(preds.argmax(1).cpu().numpy())\n",
    "            all_labels.extend(yb.cpu().numpy())\n",
    "\n",
    "    acc = accuracy_score(all_labels, all_preds) * 100\n",
    "    results.append((model_file, acc))\n",
    "\n",
    "# Print sorted results\n",
    "results.sort(key=lambda x: x[1], reverse=True)\n",
    "\n",
    "print(\"\\n📊 Model Comparison Results:\")\n",
    "for name, acc in results:\n",
    "    print(f\"{name:<35} → Test Accuracy: {acc:.2f}%\")\n"
   ]
  },
  {
   "cell_type": "code",
   "execution_count": 21,
   "id": "56e0eb95",
   "metadata": {},
   "outputs": [
    {
     "name": "stderr",
     "output_type": "stream",
     "text": [
      "Seed 40: 100%|██████████| 13/13 [00:00<00:00, 25.09it/s]\n"
     ]
    },
    {
     "name": "stdout",
     "output_type": "stream",
     "text": [
      "🎯 Seed 40 → Test Accuracy: 97.50%\n"
     ]
    },
    {
     "name": "stderr",
     "output_type": "stream",
     "text": [
      "Seed 41: 100%|██████████| 13/13 [00:00<00:00, 25.35it/s]\n"
     ]
    },
    {
     "name": "stdout",
     "output_type": "stream",
     "text": [
      "🎯 Seed 41 → Test Accuracy: 97.00%\n"
     ]
    },
    {
     "name": "stderr",
     "output_type": "stream",
     "text": [
      "Seed 42: 100%|██████████| 13/13 [00:00<00:00, 24.54it/s]\n"
     ]
    },
    {
     "name": "stdout",
     "output_type": "stream",
     "text": [
      "🎯 Seed 42 → Test Accuracy: 89.75%\n"
     ]
    },
    {
     "name": "stderr",
     "output_type": "stream",
     "text": [
      "Seed 43: 100%|██████████| 13/13 [00:00<00:00, 23.43it/s]\n"
     ]
    },
    {
     "name": "stdout",
     "output_type": "stream",
     "text": [
      "🎯 Seed 43 → Test Accuracy: 95.75%\n"
     ]
    },
    {
     "name": "stderr",
     "output_type": "stream",
     "text": [
      "Seed 44: 100%|██████████| 13/13 [00:00<00:00, 25.28it/s]\n"
     ]
    },
    {
     "name": "stdout",
     "output_type": "stream",
     "text": [
      "🎯 Seed 44 → Test Accuracy: 97.00%\n"
     ]
    },
    {
     "name": "stderr",
     "output_type": "stream",
     "text": [
      "Seed 45: 100%|██████████| 13/13 [00:00<00:00, 23.14it/s]\n"
     ]
    },
    {
     "name": "stdout",
     "output_type": "stream",
     "text": [
      "🎯 Seed 45 → Test Accuracy: 97.50%\n"
     ]
    },
    {
     "name": "stderr",
     "output_type": "stream",
     "text": [
      "Seed 46: 100%|██████████| 13/13 [00:00<00:00, 25.48it/s]\n"
     ]
    },
    {
     "name": "stdout",
     "output_type": "stream",
     "text": [
      "🎯 Seed 46 → Test Accuracy: 96.75%\n"
     ]
    },
    {
     "name": "stderr",
     "output_type": "stream",
     "text": [
      "Seed 47: 100%|██████████| 13/13 [00:00<00:00, 23.25it/s]\n"
     ]
    },
    {
     "name": "stdout",
     "output_type": "stream",
     "text": [
      "🎯 Seed 47 → Test Accuracy: 96.00%\n"
     ]
    },
    {
     "name": "stderr",
     "output_type": "stream",
     "text": [
      "Seed 48: 100%|██████████| 13/13 [00:00<00:00, 25.44it/s]\n"
     ]
    },
    {
     "name": "stdout",
     "output_type": "stream",
     "text": [
      "🎯 Seed 48 → Test Accuracy: 97.50%\n"
     ]
    },
    {
     "name": "stderr",
     "output_type": "stream",
     "text": [
      "Seed 49: 100%|██████████| 13/13 [00:00<00:00, 23.42it/s]\n"
     ]
    },
    {
     "name": "stdout",
     "output_type": "stream",
     "text": [
      "🎯 Seed 49 → Test Accuracy: 98.00%\n"
     ]
    },
    {
     "name": "stderr",
     "output_type": "stream",
     "text": [
      "Seed 50: 100%|██████████| 13/13 [00:00<00:00, 25.61it/s]"
     ]
    },
    {
     "name": "stdout",
     "output_type": "stream",
     "text": [
      "🎯 Seed 50 → Test Accuracy: 97.00%\n",
      "\n",
      "✅ Averaged Test Accuracy: 96.34% ± 2.18% over 11 seeds\n"
     ]
    },
    {
     "name": "stderr",
     "output_type": "stream",
     "text": [
      "\n"
     ]
    }
   ],
   "source": [
    "seeds = [40 ,41, 42, 43, 44, 45, 46, 47, 48, 49, 50]\n",
    "accuracies = []\n",
    "device = torch.device(\"cuda\" if torch.cuda.is_available() else \"cpu\")\n",
    "\n",
    "for seed in seeds:\n",
    "    # Split\n",
    "    X_train, X_test, y_train, y_test = train_test_split(\n",
    "        X_seq, y_seq, test_size=0.2, stratify=y_seq, random_state=seed\n",
    "    )\n",
    "\n",
    "    # Convert to tensors\n",
    "    X_test_tensor = torch.tensor(X_test, dtype=torch.float32)\n",
    "    y_test_tensor = torch.tensor(y_test, dtype=torch.long)\n",
    "    test_ds = TensorDataset(X_test_tensor, y_test_tensor)\n",
    "    test_loader = DataLoader(test_ds, batch_size=32)\n",
    "\n",
    "    # Load model\n",
    "    model = YAMNet1DCNN_Improved().to(device)\n",
    "    model.load_state_dict(torch.load(\"Model_Final.pt\"))\n",
    "    model.eval()\n",
    "\n",
    "    # Test\n",
    "    all_preds = []\n",
    "    all_labels = []\n",
    "    with torch.no_grad():\n",
    "        for xb, yb in tqdm(test_loader, desc=f\"Seed {seed}\"):\n",
    "            xb = xb.to(device)\n",
    "            preds = model(xb)\n",
    "            all_preds.extend(preds.argmax(1).cpu().numpy())\n",
    "            all_labels.extend(yb.numpy())\n",
    "\n",
    "    acc = accuracy_score(all_labels, all_preds) * 100\n",
    "    accuracies.append(acc)\n",
    "    print(f\"🎯 Seed {seed} → Test Accuracy: {acc:.2f}%\")\n",
    "\n",
    "# 📊 Final result\n",
    "mean_acc = np.mean(accuracies)\n",
    "std_acc = np.std(accuracies)\n",
    "\n",
    "print(f\"\\n✅ Averaged Test Accuracy: {mean_acc:.2f}% ± {std_acc:.2f}% over {len(seeds)} seeds\")"
   ]
  },
  {
   "cell_type": "code",
   "execution_count": 23,
   "id": "d0a9e416",
   "metadata": {},
   "outputs": [
    {
     "data": {
      "image/png": "[encoded data removed]",
      "text/plain": [
       "<Figure size 1200x1000 with 2 Axes>"
      ]
     },
     "metadata": {},
     "output_type": "display_data"
    },
    {
     "data": {
      "image/png": "[encoded data removed]",
      "text/plain": [
       "<Figure size 1400x500 with 1 Axes>"
      ]
     },
     "metadata": {},
     "output_type": "display_data"
    },
    {
     "data": {
      "image/png": "[encoded data removed]",
      "text/plain": [
       "<Figure size 1000x400 with 1 Axes>"
      ]
     },
     "metadata": {},
     "output_type": "display_data"
    }
   ],
   "source": [
    "import torch\n",
    "import matplotlib.pyplot as plt\n",
    "import seaborn as sns\n",
    "from sklearn.metrics import confusion_matrix, accuracy_score\n",
    "import numpy as np\n",
    "\n",
    "# Get predictions\n",
    "model.eval()\n",
    "all_preds = []\n",
    "all_labels = []\n",
    "\n",
    "with torch.no_grad():\n",
    "    for xb, yb in test_loader:\n",
    "        xb = xb.to(device)\n",
    "        preds = model(xb)\n",
    "        all_preds.extend(preds.argmax(1).cpu().numpy())\n",
    "        all_labels.extend(yb.cpu().numpy())\n",
    "\n",
    "# Convert to numpy\n",
    "y_pred = np.array(all_preds)\n",
    "y_true = np.array(all_labels)\n",
    "\n",
    "# 1. Confusion Matrix\n",
    "cm = confusion_matrix(y_true, y_pred)\n",
    "plt.figure(figsize=(12, 10))\n",
    "sns.heatmap(cm, annot=True, fmt=\"d\", cmap=\"Blues\")\n",
    "plt.title(\"Confusion Matrix\")\n",
    "plt.xlabel(\"Predicted\")\n",
    "plt.ylabel(\"True\")\n",
    "plt.show()\n",
    "\n",
    "# 2. Per-Class Accuracy\n",
    "class_acc = cm.diagonal() / cm.sum(axis=1)\n",
    "plt.figure(figsize=(14, 5))\n",
    "plt.bar(np.arange(len(class_acc)), class_acc * 100)\n",
    "plt.xlabel(\"Class\")\n",
    "plt.ylabel(\"Accuracy (%)\")\n",
    "plt.title(\"Per-Class Accuracy\")\n",
    "plt.grid(True)\n",
    "plt.show()\n",
    "\n",
    "# 3. Prediction Distribution\n",
    "plt.figure(figsize=(10, 4))\n",
    "plt.hist(y_pred, bins=len(set(y_true)), rwidth=0.8)\n",
    "plt.title(\"Distribution of Predicted Classes\")\n",
    "plt.xlabel(\"Predicted Class\")\n",
    "plt.ylabel(\"Count\")\n",
    "plt.grid(True)\n",
    "plt.show()\n"
   ]
  },
  {
   "cell_type": "code",
   "execution_count": 32,
   "id": "b090f92c",
   "metadata": {},
   "outputs": [
    {
     "name": "stdout",
     "output_type": "stream",
     "text": [
      "Predicted class for 'Chirping-Birds.wav': 14 → chirping_birds\n"
     ]
    }
   ],
   "source": [
    "import librosa\n",
    "import tensorflow_hub as hub\n",
    "\n",
    "\n",
    "# Constants\n",
    "MAX_FRAMES = 100\n",
    "device = torch.device(\"cuda\" if torch.cuda.is_available() else \"cpu\")\n",
    "\n",
    "# Load the trained model\n",
    "model = YAMNet1DCNN_Improved().to(device)\n",
    "model.load_state_dict(torch.load(\"Model_Final.pt\"))\n",
    "model.eval()\n",
    "\n",
    "# Function to preprocess one .wav file\n",
    "def preprocess_single_wav(file_path):\n",
    "    waveform, sr = librosa.load(file_path, sr=16000, mono=True)\n",
    "    waveform = tf.convert_to_tensor(waveform, dtype=tf.float32)\n",
    "\n",
    "    _, embeddings, _ = yamnet_model(waveform)\n",
    "    emb_np = embeddings.numpy()  # shape: (frames, 1024)\n",
    "\n",
    "    # Pad or truncate to MAX_FRAMES\n",
    "    if emb_np.shape[0] < MAX_FRAMES:\n",
    "        pad_width = MAX_FRAMES - emb_np.shape[0]\n",
    "        emb_np = np.pad(emb_np, ((0, pad_width), (0, 0)), mode='constant')\n",
    "    else:\n",
    "        emb_np = emb_np[:MAX_FRAMES, :]\n",
    "\n",
    "    return emb_np  # shape: (100, 1024)\n",
    "\n",
    "new_file_path = \"Chirping-Birds.wav\"\n",
    "\n",
    "# Preprocess and predict\n",
    "embedding = preprocess_single_wav(new_file_path)\n",
    "input_tensor = torch.tensor(embedding, dtype=torch.float32).unsqueeze(0).to(device)  # shape: (1, 100, 1024)\n",
    "\n",
    "with torch.no_grad():\n",
    "    output = model(input_tensor)\n",
    "    predicted_class = torch.argmax(output, dim=1).item()\n",
    "    \n",
    "    # Create mapping: {0: 'dog', 1: 'rooster', ..., 49: 'coughing'}\n",
    "target_to_category = df.drop_duplicates(subset=['target'])[['target', 'category']].sort_values(by='target')\n",
    "label_map = target_to_category.set_index('target')['category'].to_dict()\n",
    "\n",
    "predicted_label = label_map[predicted_class]\n",
    "print(f\"Predicted class for '{new_file_path}': {predicted_class} → {predicted_label}\")\n"
   ]
  },
  {
   "cell_type": "code",
   "execution_count": 33,
   "id": "91cf8c59",
   "metadata": {},
   "outputs": [
    {
     "name": "stdout",
     "output_type": "stream",
     "text": [
      "Predicted class for 'DOG10.wav': 0 → dog\n"
     ]
    }
   ],
   "source": [
    "new_file_path = \"DOG10.wav\"\n",
    "\n",
    "# Preprocess and predict\n",
    "embedding = preprocess_single_wav(new_file_path)\n",
    "input_tensor = torch.tensor(embedding, dtype=torch.float32).unsqueeze(0).to(device)  # shape: (1, 100, 1024)\n",
    "\n",
    "with torch.no_grad():\n",
    "    output = model(input_tensor)\n",
    "    predicted_class = torch.argmax(output, dim=1).item()\n",
    "    \n",
    "    # Create mapping: {0: 'dog', 1: 'rooster', ..., 49: 'coughing'}\n",
    "target_to_category = df.drop_duplicates(subset=['target'])[['target', 'category']].sort_values(by='target')\n",
    "label_map = target_to_category.set_index('target')['category'].to_dict()\n",
    "\n",
    "predicted_label = label_map[predicted_class]\n",
    "print(f\"Predicted class for '{new_file_path}': {predicted_class} → {predicted_label}\")\n"
   ]
  },
  {
   "cell_type": "code",
   "execution_count": 34,
   "id": "7e7db931",
   "metadata": {},
   "outputs": [
    {
     "name": "stdout",
     "output_type": "stream",
     "text": [
      "Predicted class for 'dog-barking.wav': 0 → dog\n"
     ]
    }
   ],
   "source": [
    "new_file_path = \"dog-barking.wav\"\n",
    "\n",
    "# Preprocess and predict\n",
    "embedding = preprocess_single_wav(new_file_path)\n",
    "input_tensor = torch.tensor(embedding, dtype=torch.float32).unsqueeze(0).to(device)  # shape: (1, 100, 1024)\n",
    "\n",
    "with torch.no_grad():\n",
    "    output = model(input_tensor)\n",
    "    predicted_class = torch.argmax(output, dim=1).item()\n",
    "    \n",
    "    # Create mapping: {0: 'dog', 1: 'rooster', ..., 49: 'coughing'}\n",
    "target_to_category = df.drop_duplicates(subset=['target'])[['target', 'category']].sort_values(by='target')\n",
    "label_map = target_to_category.set_index('target')['category'].to_dict()\n",
    "\n",
    "predicted_label = label_map[predicted_class]\n",
    "print(f\"Predicted class for '{new_file_path}': {predicted_class} → {predicted_label}\")\n"
   ]
  }
 ],
 "metadata": {
  "kernelspec": {
   "display_name": "myenv",
   "language": "python",
   "name": "python3"
  },
  "language_info": {
   "codemirror_mode": {
    "name": "ipython",
    "version": 3
   },
   "file_extension": ".py",
   "mimetype": "text/x-python",
   "name": "python",
   "nbconvert_exporter": "python",
   "pygments_lexer": "ipython3",
   "version": "3.10.11"
  }
 },
 "nbformat": 4,
 "nbformat_minor": 5
}
