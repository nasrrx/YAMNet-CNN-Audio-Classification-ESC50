{
 "cells": [
  {
   "cell_type": "code",
   "execution_count": 32,
   "id": "fe89d230",
   "metadata": {},
   "outputs": [
    {
     "name": "stdout",
     "output_type": "stream",
     "text": [
      "✅ DataLoaders ready:\n",
      "Train: 7727 | Val: 858 | Test: 2147\n"
     ]
    }
   ],
   "source": [
    "import torch\n",
    "import numpy as np\n",
    "from sklearn.model_selection import train_test_split\n",
    "from torch.utils.data import TensorDataset, DataLoader, random_split\n",
    "\n",
    "# === Load .npy files ===\n",
    "X_seq = np.load(\"X_seq.npy\")  # shape: (N, 100, 1024)\n",
    "y_seq = np.load(\"y_seq.npy\")  # shape: (N,)\n",
    "\n",
    "# === Split into train/test (stratified) ===\n",
    "X_train_np, X_test_np, y_train_np, y_test_np = train_test_split(\n",
    "    X_seq, y_seq, test_size=0.2, stratify=y_seq, random_state=42\n",
    ")\n",
    "\n",
    "# === Convert to PyTorch tensors ===\n",
    "X_train = torch.tensor(X_train_np, dtype=torch.float32)\n",
    "y_train = torch.tensor(y_train_np, dtype=torch.long)\n",
    "X_test = torch.tensor(X_test_np, dtype=torch.float32)\n",
    "y_test = torch.tensor(y_test_np, dtype=torch.long)\n",
    "\n",
    "# === Wrap in TensorDataset ===\n",
    "train_dataset = TensorDataset(X_train, y_train)\n",
    "test_dataset = TensorDataset(X_test, y_test)\n",
    "\n",
    "# === Split train into train/val ===\n",
    "val_ratio = 0.1\n",
    "val_size = int(len(train_dataset) * val_ratio)\n",
    "train_size = len(train_dataset) - val_size\n",
    "train_set, val_set = random_split(train_dataset, [train_size, val_size])\n",
    "\n",
    "# === Build DataLoaders ===\n",
    "train_loader = DataLoader(train_set, batch_size=32, shuffle=True)\n",
    "val_loader = DataLoader(val_set, batch_size=32)\n",
    "test_loader = DataLoader(test_dataset, batch_size=32)\n",
    "\n",
    "print(\"✅ DataLoaders ready:\")\n",
    "print(f\"Train: {len(train_set)} | Val: {len(val_set)} | Test: {len(test_dataset)}\")\n"
   ]
  },
  {
   "cell_type": "code",
   "execution_count": 31,
   "id": "76dc1aa4",
   "metadata": {},
   "outputs": [],
   "source": [
    "import torch\n",
    "import torch.nn as nn\n",
    "import torch.nn.functional as F\n",
    "\n",
    "class YAMNet1DCNN_Improved(nn.Module):\n",
    "    def __init__(self, num_classes=57):\n",
    "        super().__init__()\n",
    "        self.conv1 = nn.Conv1d(1024, 512, kernel_size=5, padding=2)\n",
    "        self.bn1 = nn.BatchNorm1d(512)\n",
    "        self.pool1 = nn.MaxPool1d(2)\n",
    "\n",
    "        self.conv2 = nn.Conv1d(512, 256, kernel_size=5, padding=2)\n",
    "        self.bn2 = nn.BatchNorm1d(256)\n",
    "        self.pool2 = nn.MaxPool1d(2)\n",
    "\n",
    "        self.conv3 = nn.Conv1d(256, 128, kernel_size=3, padding=1)\n",
    "        self.bn3 = nn.BatchNorm1d(128)\n",
    "\n",
    "        self.global_pool = nn.AdaptiveAvgPool1d(1)\n",
    "        self.dropout = nn.Dropout(0.75)  # Slightly higher for better regularization\n",
    "        self.fc = nn.Linear(128, num_classes)\n",
    "\n",
    "        self._init_weights()\n",
    "\n",
    "    def _init_weights(self):\n",
    "        for m in self.modules():\n",
    "            if isinstance(m, nn.Conv1d):\n",
    "                nn.init.kaiming_normal_(m.weight, nonlinearity='relu')\n",
    "                if m.bias is not None:\n",
    "                    nn.init.zeros_(m.bias)\n",
    "            elif isinstance(m, nn.Linear):\n",
    "                nn.init.xavier_uniform_(m.weight)\n",
    "                nn.init.zeros_(m.bias)\n",
    "\n",
    "    def forward(self, x):\n",
    "        x = x.permute(0, 2, 1)  # (B, 100, 1024) → (B, 1024, 100)\n",
    "        x = self.pool1(F.gelu(self.bn1(self.conv1(x))))\n",
    "        x = self.pool2(F.gelu(self.bn2(self.conv2(x))))\n",
    "        x = F.gelu(self.bn3(self.conv3(x)))\n",
    "        x = self.global_pool(x).squeeze(-1)\n",
    "        x = self.dropout(x)\n",
    "        return self.fc(x)\n"
   ]
  },
  {
   "cell_type": "code",
   "execution_count": 2,
   "id": "0a04fe8e",
   "metadata": {},
   "outputs": [
    {
     "name": "stdout",
     "output_type": "stream",
     "text": [
      "Requirement already satisfied: simpleaudio in c:\\users\\nasrr\\desktop\\myenv\\lib\\site-packages (1.0.4)\n",
      "Note: you may need to restart the kernel to use updated packages.\n"
     ]
    }
   ],
   "source": [
    "%pip install simpleaudio"
   ]
  },
  {
   "cell_type": "code",
   "execution_count": 33,
   "id": "c4600c1f",
   "metadata": {},
   "outputs": [
    {
     "name": "stdout",
     "output_type": "stream",
     "text": [
      "\n",
      "🔍 Evaluating Model_93_12_Epoch138.pt\n"
     ]
    },
    {
     "name": "stderr",
     "output_type": "stream",
     "text": [
      "                                                                                \r"
     ]
    },
    {
     "name": "stdout",
     "output_type": "stream",
     "text": [
      "\n",
      "🔍 Evaluating Model_93_12_Epoch147.pt\n"
     ]
    },
    {
     "name": "stderr",
     "output_type": "stream",
     "text": [
      "                                                                                \r"
     ]
    },
    {
     "name": "stdout",
     "output_type": "stream",
     "text": [
      "\n",
      "🔍 Evaluating Model_92_89_Epoch137.pt\n"
     ]
    },
    {
     "name": "stderr",
     "output_type": "stream",
     "text": [
      "                                                                                \r"
     ]
    },
    {
     "name": "stdout",
     "output_type": "stream",
     "text": [
      "\n",
      "🔍 Evaluating Model_92_89_Epoch139.pt\n"
     ]
    },
    {
     "name": "stderr",
     "output_type": "stream",
     "text": [
      "                                                                                \r"
     ]
    },
    {
     "name": "stdout",
     "output_type": "stream",
     "text": [
      "\n",
      "🔍 Evaluating Model_92_89_Epoch145.pt\n"
     ]
    },
    {
     "name": "stderr",
     "output_type": "stream",
     "text": [
      "                                                                                \r"
     ]
    },
    {
     "name": "stdout",
     "output_type": "stream",
     "text": [
      "\n",
      "🔍 Evaluating Model_92_89_Epoch177.pt\n"
     ]
    },
    {
     "name": "stderr",
     "output_type": "stream",
     "text": [
      "                                                                                \r"
     ]
    },
    {
     "name": "stdout",
     "output_type": "stream",
     "text": [
      "\n",
      "🔍 Evaluating Model_92_89_Epoch198.pt\n"
     ]
    },
    {
     "name": "stderr",
     "output_type": "stream",
     "text": [
      "                                                                                \r"
     ]
    },
    {
     "name": "stdout",
     "output_type": "stream",
     "text": [
      "\n",
      "🔍 Evaluating Model_92_89_Epoch93.pt\n"
     ]
    },
    {
     "name": "stderr",
     "output_type": "stream",
     "text": [
      "                                                                               \r"
     ]
    },
    {
     "name": "stdout",
     "output_type": "stream",
     "text": [
      "\n",
      "🔍 Evaluating Model_92_77_Epoch113.pt\n"
     ]
    },
    {
     "name": "stderr",
     "output_type": "stream",
     "text": [
      "                                                                                \r"
     ]
    },
    {
     "name": "stdout",
     "output_type": "stream",
     "text": [
      "\n",
      "🔍 Evaluating Model_92_77_Epoch124.pt\n"
     ]
    },
    {
     "name": "stderr",
     "output_type": "stream",
     "text": [
      "                                                                                \r"
     ]
    },
    {
     "name": "stdout",
     "output_type": "stream",
     "text": [
      "\n",
      "🔍 Evaluating Model_92_77_Epoch136.pt\n"
     ]
    },
    {
     "name": "stderr",
     "output_type": "stream",
     "text": [
      "                                                                                \r"
     ]
    },
    {
     "name": "stdout",
     "output_type": "stream",
     "text": [
      "\n",
      "🔍 Evaluating Model_92_77_Epoch146.pt\n"
     ]
    },
    {
     "name": "stderr",
     "output_type": "stream",
     "text": [
      "                                                                                \r"
     ]
    },
    {
     "name": "stdout",
     "output_type": "stream",
     "text": [
      "\n",
      "🔍 Evaluating Model_92_77_Epoch154.pt\n"
     ]
    },
    {
     "name": "stderr",
     "output_type": "stream",
     "text": [
      "                                                                                \r"
     ]
    },
    {
     "name": "stdout",
     "output_type": "stream",
     "text": [
      "\n",
      "🔍 Evaluating Model_92_77_Epoch155.pt\n"
     ]
    },
    {
     "name": "stderr",
     "output_type": "stream",
     "text": [
      "                                                                                \r"
     ]
    },
    {
     "name": "stdout",
     "output_type": "stream",
     "text": [
      "\n",
      "🔍 Evaluating Model_92_77_Epoch156.pt\n"
     ]
    },
    {
     "name": "stderr",
     "output_type": "stream",
     "text": [
      "                                                                                \r"
     ]
    },
    {
     "name": "stdout",
     "output_type": "stream",
     "text": [
      "\n",
      "🔍 Evaluating Model_92_77_Epoch159.pt\n"
     ]
    },
    {
     "name": "stderr",
     "output_type": "stream",
     "text": [
      "                                                                                \r"
     ]
    },
    {
     "name": "stdout",
     "output_type": "stream",
     "text": [
      "\n",
      "🔍 Evaluating Model_92_77_Epoch162.pt\n"
     ]
    },
    {
     "name": "stderr",
     "output_type": "stream",
     "text": [
      "                                                                                \r"
     ]
    },
    {
     "name": "stdout",
     "output_type": "stream",
     "text": [
      "\n",
      "🔍 Evaluating Model_92_77_Epoch163.pt\n"
     ]
    },
    {
     "name": "stderr",
     "output_type": "stream",
     "text": [
      "                                                                                \r"
     ]
    },
    {
     "name": "stdout",
     "output_type": "stream",
     "text": [
      "\n",
      "🔍 Evaluating Model_92_77_Epoch164.pt\n"
     ]
    },
    {
     "name": "stderr",
     "output_type": "stream",
     "text": [
      "                                                                                \r"
     ]
    },
    {
     "name": "stdout",
     "output_type": "stream",
     "text": [
      "\n",
      "🔍 Evaluating Model_92_77_Epoch170.pt\n"
     ]
    },
    {
     "name": "stderr",
     "output_type": "stream",
     "text": [
      "                                                                                \r"
     ]
    },
    {
     "name": "stdout",
     "output_type": "stream",
     "text": [
      "\n",
      "🔍 Evaluating Model_92_77_Epoch172.pt\n"
     ]
    },
    {
     "name": "stderr",
     "output_type": "stream",
     "text": [
      "                                                                                \r"
     ]
    },
    {
     "name": "stdout",
     "output_type": "stream",
     "text": [
      "\n",
      "🔍 Evaluating Model_92_77_Epoch173.pt\n"
     ]
    },
    {
     "name": "stderr",
     "output_type": "stream",
     "text": [
      "                                                                                \r"
     ]
    },
    {
     "name": "stdout",
     "output_type": "stream",
     "text": [
      "\n",
      "🔍 Evaluating Model_92_77_Epoch180.pt\n"
     ]
    },
    {
     "name": "stderr",
     "output_type": "stream",
     "text": [
      "                                                                                \r"
     ]
    },
    {
     "name": "stdout",
     "output_type": "stream",
     "text": [
      "\n",
      "🔍 Evaluating Model_92_77_Epoch186.pt\n"
     ]
    },
    {
     "name": "stderr",
     "output_type": "stream",
     "text": [
      "                                                                                \r"
     ]
    },
    {
     "name": "stdout",
     "output_type": "stream",
     "text": [
      "\n",
      "🔍 Evaluating Model_92_77_Epoch188.pt\n"
     ]
    },
    {
     "name": "stderr",
     "output_type": "stream",
     "text": [
      "                                                                                \r"
     ]
    },
    {
     "name": "stdout",
     "output_type": "stream",
     "text": [
      "\n",
      "🔍 Evaluating Model_92_77_Epoch189.pt\n"
     ]
    },
    {
     "name": "stderr",
     "output_type": "stream",
     "text": [
      "                                                                                \r"
     ]
    },
    {
     "name": "stdout",
     "output_type": "stream",
     "text": [
      "\n",
      "🔍 Evaluating Model_92_77_Epoch191.pt\n"
     ]
    },
    {
     "name": "stderr",
     "output_type": "stream",
     "text": [
      "                                                                                \r"
     ]
    },
    {
     "name": "stdout",
     "output_type": "stream",
     "text": [
      "\n",
      "🔍 Evaluating Model_92_77_Epoch192.pt\n"
     ]
    },
    {
     "name": "stderr",
     "output_type": "stream",
     "text": [
      "                                                                                \r"
     ]
    },
    {
     "name": "stdout",
     "output_type": "stream",
     "text": [
      "\n",
      "🔍 Evaluating Model_92_77_Epoch193.pt\n"
     ]
    },
    {
     "name": "stderr",
     "output_type": "stream",
     "text": [
      "                                                                                \r"
     ]
    },
    {
     "name": "stdout",
     "output_type": "stream",
     "text": [
      "\n",
      "🔍 Evaluating Model_92_77_Epoch194.pt\n"
     ]
    },
    {
     "name": "stderr",
     "output_type": "stream",
     "text": [
      "                                                                                \r"
     ]
    },
    {
     "name": "stdout",
     "output_type": "stream",
     "text": [
      "\n",
      "🔍 Evaluating Model_92_77_Epoch195.pt\n"
     ]
    },
    {
     "name": "stderr",
     "output_type": "stream",
     "text": [
      "                                                                                \r"
     ]
    },
    {
     "name": "stdout",
     "output_type": "stream",
     "text": [
      "\n",
      "🔍 Evaluating Model_92_77_Epoch196.pt\n"
     ]
    },
    {
     "name": "stderr",
     "output_type": "stream",
     "text": [
      "                                                                                \r"
     ]
    },
    {
     "name": "stdout",
     "output_type": "stream",
     "text": [
      "\n",
      "🔍 Evaluating Model_92_77_Epoch197.pt\n"
     ]
    },
    {
     "name": "stderr",
     "output_type": "stream",
     "text": [
      "                                                                                \r"
     ]
    },
    {
     "name": "stdout",
     "output_type": "stream",
     "text": [
      "\n",
      "🔍 Evaluating Model_92_77_Epoch200.pt\n"
     ]
    },
    {
     "name": "stderr",
     "output_type": "stream",
     "text": [
      "                                                                                \r"
     ]
    },
    {
     "name": "stdout",
     "output_type": "stream",
     "text": [
      "\n",
      "🔍 Evaluating Model_92_77_Epoch64.pt\n"
     ]
    },
    {
     "name": "stderr",
     "output_type": "stream",
     "text": [
      "                                                                               \r"
     ]
    },
    {
     "name": "stdout",
     "output_type": "stream",
     "text": [
      "\n",
      "🔍 Evaluating Model_92_66_Epoch120.pt\n"
     ]
    },
    {
     "name": "stderr",
     "output_type": "stream",
     "text": [
      "                                                                                \r"
     ]
    },
    {
     "name": "stdout",
     "output_type": "stream",
     "text": [
      "\n",
      "🔍 Evaluating Model_92_66_Epoch123.pt\n"
     ]
    },
    {
     "name": "stderr",
     "output_type": "stream",
     "text": [
      "                                                                                \r"
     ]
    },
    {
     "name": "stdout",
     "output_type": "stream",
     "text": [
      "\n",
      "🔍 Evaluating Model_92_66_Epoch126.pt\n"
     ]
    },
    {
     "name": "stderr",
     "output_type": "stream",
     "text": [
      "                                                                                \r"
     ]
    },
    {
     "name": "stdout",
     "output_type": "stream",
     "text": [
      "\n",
      "🔍 Evaluating Model_92_66_Epoch131.pt\n"
     ]
    },
    {
     "name": "stderr",
     "output_type": "stream",
     "text": [
      "                                                                                \r"
     ]
    },
    {
     "name": "stdout",
     "output_type": "stream",
     "text": [
      "\n",
      "🔍 Evaluating Model_92_66_Epoch135.pt\n"
     ]
    },
    {
     "name": "stderr",
     "output_type": "stream",
     "text": [
      "                                                                                \r"
     ]
    },
    {
     "name": "stdout",
     "output_type": "stream",
     "text": [
      "\n",
      "🔍 Evaluating Model_92_66_Epoch140.pt\n"
     ]
    },
    {
     "name": "stderr",
     "output_type": "stream",
     "text": [
      "                                                                                \r"
     ]
    },
    {
     "name": "stdout",
     "output_type": "stream",
     "text": [
      "\n",
      "🔍 Evaluating Model_92_66_Epoch143.pt\n"
     ]
    },
    {
     "name": "stderr",
     "output_type": "stream",
     "text": [
      "                                                                                \r"
     ]
    },
    {
     "name": "stdout",
     "output_type": "stream",
     "text": [
      "\n",
      "🔍 Evaluating Model_92_66_Epoch144.pt\n"
     ]
    },
    {
     "name": "stderr",
     "output_type": "stream",
     "text": [
      "                                                                                \r"
     ]
    },
    {
     "name": "stdout",
     "output_type": "stream",
     "text": [
      "\n",
      "🔍 Evaluating Model_92_66_Epoch153.pt\n"
     ]
    },
    {
     "name": "stderr",
     "output_type": "stream",
     "text": [
      "                                                                                \r"
     ]
    },
    {
     "name": "stdout",
     "output_type": "stream",
     "text": [
      "\n",
      "🔍 Evaluating Model_92_66_Epoch157.pt\n"
     ]
    },
    {
     "name": "stderr",
     "output_type": "stream",
     "text": [
      "                                                                                \r"
     ]
    },
    {
     "name": "stdout",
     "output_type": "stream",
     "text": [
      "\n",
      "🔍 Evaluating Model_92_66_Epoch158.pt\n"
     ]
    },
    {
     "name": "stderr",
     "output_type": "stream",
     "text": [
      "                                                                                \r"
     ]
    },
    {
     "name": "stdout",
     "output_type": "stream",
     "text": [
      "\n",
      "🔍 Evaluating Model_92_66_Epoch160.pt\n"
     ]
    },
    {
     "name": "stderr",
     "output_type": "stream",
     "text": [
      "                                                                                \r"
     ]
    },
    {
     "name": "stdout",
     "output_type": "stream",
     "text": [
      "\n",
      "🔍 Evaluating Model_92_66_Epoch165.pt\n"
     ]
    },
    {
     "name": "stderr",
     "output_type": "stream",
     "text": [
      "                                                                                \r"
     ]
    },
    {
     "name": "stdout",
     "output_type": "stream",
     "text": [
      "\n",
      "🔍 Evaluating Model_92_66_Epoch166.pt\n"
     ]
    },
    {
     "name": "stderr",
     "output_type": "stream",
     "text": [
      "                                                                                \r"
     ]
    },
    {
     "name": "stdout",
     "output_type": "stream",
     "text": [
      "\n",
      "🔍 Evaluating Model_92_66_Epoch167.pt\n"
     ]
    },
    {
     "name": "stderr",
     "output_type": "stream",
     "text": [
      "                                                                                \r"
     ]
    },
    {
     "name": "stdout",
     "output_type": "stream",
     "text": [
      "\n",
      "🔍 Evaluating Model_92_66_Epoch169.pt\n"
     ]
    },
    {
     "name": "stderr",
     "output_type": "stream",
     "text": [
      "                                                                                \r"
     ]
    },
    {
     "name": "stdout",
     "output_type": "stream",
     "text": [
      "\n",
      "🔍 Evaluating Model_92_66_Epoch175.pt\n"
     ]
    },
    {
     "name": "stderr",
     "output_type": "stream",
     "text": [
      "                                                                                \r"
     ]
    },
    {
     "name": "stdout",
     "output_type": "stream",
     "text": [
      "\n",
      "🔍 Evaluating Model_92_66_Epoch178.pt\n"
     ]
    },
    {
     "name": "stderr",
     "output_type": "stream",
     "text": [
      "                                                                                \r"
     ]
    },
    {
     "name": "stdout",
     "output_type": "stream",
     "text": [
      "\n",
      "🔍 Evaluating Model_92_66_Epoch183.pt\n"
     ]
    },
    {
     "name": "stderr",
     "output_type": "stream",
     "text": [
      "                                                                                \r"
     ]
    },
    {
     "name": "stdout",
     "output_type": "stream",
     "text": [
      "\n",
      "🔍 Evaluating Model_92_66_Epoch184.pt\n"
     ]
    },
    {
     "name": "stderr",
     "output_type": "stream",
     "text": [
      "                                                                                \r"
     ]
    },
    {
     "name": "stdout",
     "output_type": "stream",
     "text": [
      "\n",
      "🔍 Evaluating Model_92_66_Epoch185.pt\n"
     ]
    },
    {
     "name": "stderr",
     "output_type": "stream",
     "text": [
      "                                                                                \r"
     ]
    },
    {
     "name": "stdout",
     "output_type": "stream",
     "text": [
      "\n",
      "🔍 Evaluating Model_92_66_Epoch187.pt\n"
     ]
    },
    {
     "name": "stderr",
     "output_type": "stream",
     "text": [
      "                                                                                \r"
     ]
    },
    {
     "name": "stdout",
     "output_type": "stream",
     "text": [
      "\n",
      "🔍 Evaluating Model_92_66_Epoch190.pt\n"
     ]
    },
    {
     "name": "stderr",
     "output_type": "stream",
     "text": [
      "                                                                                \r"
     ]
    },
    {
     "name": "stdout",
     "output_type": "stream",
     "text": [
      "\n",
      "🔍 Evaluating Model_92_66_Epoch199.pt\n"
     ]
    },
    {
     "name": "stderr",
     "output_type": "stream",
     "text": [
      "                                                                                \r"
     ]
    },
    {
     "name": "stdout",
     "output_type": "stream",
     "text": [
      "\n",
      "🔍 Evaluating Model_92_66_Epoch94.pt\n"
     ]
    },
    {
     "name": "stderr",
     "output_type": "stream",
     "text": [
      "                                                                               \r"
     ]
    },
    {
     "name": "stdout",
     "output_type": "stream",
     "text": [
      "\n",
      "🔍 Evaluating Model_92_54_Epoch111.pt\n"
     ]
    },
    {
     "name": "stderr",
     "output_type": "stream",
     "text": [
      "                                                                                \r"
     ]
    },
    {
     "name": "stdout",
     "output_type": "stream",
     "text": [
      "\n",
      "🔍 Evaluating Model_92_54_Epoch118.pt\n"
     ]
    },
    {
     "name": "stderr",
     "output_type": "stream",
     "text": [
      "                                                                                \r"
     ]
    },
    {
     "name": "stdout",
     "output_type": "stream",
     "text": [
      "\n",
      "🔍 Evaluating Model_92_54_Epoch125.pt\n"
     ]
    },
    {
     "name": "stderr",
     "output_type": "stream",
     "text": [
      "                                                                                \r"
     ]
    },
    {
     "name": "stdout",
     "output_type": "stream",
     "text": [
      "\n",
      "🔍 Evaluating Model_92_54_Epoch129.pt\n"
     ]
    },
    {
     "name": "stderr",
     "output_type": "stream",
     "text": [
      "                                                                                \r"
     ]
    },
    {
     "name": "stdout",
     "output_type": "stream",
     "text": [
      "\n",
      "🔍 Evaluating Model_92_54_Epoch132.pt\n"
     ]
    },
    {
     "name": "stderr",
     "output_type": "stream",
     "text": [
      "                                                                                \r"
     ]
    },
    {
     "name": "stdout",
     "output_type": "stream",
     "text": [
      "\n",
      "🔍 Evaluating Model_92_54_Epoch148.pt\n"
     ]
    },
    {
     "name": "stderr",
     "output_type": "stream",
     "text": [
      "                                                                                \r"
     ]
    },
    {
     "name": "stdout",
     "output_type": "stream",
     "text": [
      "\n",
      "🔍 Evaluating Model_92_54_Epoch149.pt\n"
     ]
    },
    {
     "name": "stderr",
     "output_type": "stream",
     "text": [
      "                                                                                \r"
     ]
    },
    {
     "name": "stdout",
     "output_type": "stream",
     "text": [
      "\n",
      "🔍 Evaluating Model_92_54_Epoch152.pt\n"
     ]
    },
    {
     "name": "stderr",
     "output_type": "stream",
     "text": [
      "                                                                                \r"
     ]
    },
    {
     "name": "stdout",
     "output_type": "stream",
     "text": [
      "\n",
      "🔍 Evaluating Model_92_54_Epoch168.pt\n"
     ]
    },
    {
     "name": "stderr",
     "output_type": "stream",
     "text": [
      "                                                                                \r"
     ]
    },
    {
     "name": "stdout",
     "output_type": "stream",
     "text": [
      "\n",
      "🔍 Evaluating Model_92_54_Epoch171.pt\n"
     ]
    },
    {
     "name": "stderr",
     "output_type": "stream",
     "text": [
      "                                                                                \r"
     ]
    },
    {
     "name": "stdout",
     "output_type": "stream",
     "text": [
      "\n",
      "🔍 Evaluating Model_92_54_Epoch174.pt\n"
     ]
    },
    {
     "name": "stderr",
     "output_type": "stream",
     "text": [
      "                                                                                \r"
     ]
    },
    {
     "name": "stdout",
     "output_type": "stream",
     "text": [
      "\n",
      "🔍 Evaluating Model_92_54_Epoch176.pt\n"
     ]
    },
    {
     "name": "stderr",
     "output_type": "stream",
     "text": [
      "                                                                                \r"
     ]
    },
    {
     "name": "stdout",
     "output_type": "stream",
     "text": [
      "\n",
      "🔍 Evaluating Model_92_54_Epoch181.pt\n"
     ]
    },
    {
     "name": "stderr",
     "output_type": "stream",
     "text": [
      "                                                                                \r"
     ]
    },
    {
     "name": "stdout",
     "output_type": "stream",
     "text": [
      "\n",
      "🔍 Evaluating Model_92_54_Epoch182.pt\n"
     ]
    },
    {
     "name": "stderr",
     "output_type": "stream",
     "text": [
      "                                                                                \r"
     ]
    },
    {
     "name": "stdout",
     "output_type": "stream",
     "text": [
      "\n",
      "🔍 Evaluating Model_92_54_Epoch61.pt\n"
     ]
    },
    {
     "name": "stderr",
     "output_type": "stream",
     "text": [
      "                                                                               \r"
     ]
    },
    {
     "name": "stdout",
     "output_type": "stream",
     "text": [
      "\n",
      "🔍 Evaluating Model_92_54_Epoch63.pt\n"
     ]
    },
    {
     "name": "stderr",
     "output_type": "stream",
     "text": [
      "                                                                               \r"
     ]
    },
    {
     "name": "stdout",
     "output_type": "stream",
     "text": [
      "\n",
      "🔍 Evaluating Model_92_54_Epoch92.pt\n"
     ]
    },
    {
     "name": "stderr",
     "output_type": "stream",
     "text": [
      "                                                                               \r"
     ]
    },
    {
     "name": "stdout",
     "output_type": "stream",
     "text": [
      "\n",
      "🔍 Evaluating Model_92_54_Epoch97.pt\n"
     ]
    },
    {
     "name": "stderr",
     "output_type": "stream",
     "text": [
      "                                                                               \r"
     ]
    },
    {
     "name": "stdout",
     "output_type": "stream",
     "text": [
      "\n",
      "🔍 Evaluating Model_92_42_Epoch103.pt\n"
     ]
    },
    {
     "name": "stderr",
     "output_type": "stream",
     "text": [
      "                                                                                \r"
     ]
    },
    {
     "name": "stdout",
     "output_type": "stream",
     "text": [
      "\n",
      "🔍 Evaluating Model_92_42_Epoch108.pt\n"
     ]
    },
    {
     "name": "stderr",
     "output_type": "stream",
     "text": [
      "                                                                                \r"
     ]
    },
    {
     "name": "stdout",
     "output_type": "stream",
     "text": [
      "\n",
      "🔍 Evaluating Model_92_42_Epoch110.pt\n"
     ]
    },
    {
     "name": "stderr",
     "output_type": "stream",
     "text": [
      "                                                                                \r"
     ]
    },
    {
     "name": "stdout",
     "output_type": "stream",
     "text": [
      "\n",
      "🔍 Evaluating Model_92_42_Epoch115.pt\n"
     ]
    },
    {
     "name": "stderr",
     "output_type": "stream",
     "text": [
      "                                                                                \r"
     ]
    },
    {
     "name": "stdout",
     "output_type": "stream",
     "text": [
      "\n",
      "🔍 Evaluating Model_92_42_Epoch116.pt\n"
     ]
    },
    {
     "name": "stderr",
     "output_type": "stream",
     "text": [
      "                                                                                \r"
     ]
    },
    {
     "name": "stdout",
     "output_type": "stream",
     "text": [
      "\n",
      "🔍 Evaluating Model_92_42_Epoch119.pt\n"
     ]
    },
    {
     "name": "stderr",
     "output_type": "stream",
     "text": [
      "                                                                                \r"
     ]
    },
    {
     "name": "stdout",
     "output_type": "stream",
     "text": [
      "\n",
      "🔍 Evaluating Model_92_42_Epoch130.pt\n"
     ]
    },
    {
     "name": "stderr",
     "output_type": "stream",
     "text": [
      "                                                                                \r"
     ]
    },
    {
     "name": "stdout",
     "output_type": "stream",
     "text": [
      "\n",
      "🔍 Evaluating Model_92_42_Epoch133.pt\n"
     ]
    },
    {
     "name": "stderr",
     "output_type": "stream",
     "text": [
      "                                                                                \r"
     ]
    },
    {
     "name": "stdout",
     "output_type": "stream",
     "text": [
      "\n",
      "🔍 Evaluating Model_92_42_Epoch134.pt\n"
     ]
    },
    {
     "name": "stderr",
     "output_type": "stream",
     "text": [
      "                                                                                \r"
     ]
    },
    {
     "name": "stdout",
     "output_type": "stream",
     "text": [
      "\n",
      "🔍 Evaluating Model_92_42_Epoch141.pt\n"
     ]
    },
    {
     "name": "stderr",
     "output_type": "stream",
     "text": [
      "                                                                                \r"
     ]
    },
    {
     "name": "stdout",
     "output_type": "stream",
     "text": [
      "\n",
      "🔍 Evaluating Model_92_42_Epoch142.pt\n"
     ]
    },
    {
     "name": "stderr",
     "output_type": "stream",
     "text": [
      "                                                                                \r"
     ]
    },
    {
     "name": "stdout",
     "output_type": "stream",
     "text": [
      "\n",
      "🔍 Evaluating Model_92_42_Epoch150.pt\n"
     ]
    },
    {
     "name": "stderr",
     "output_type": "stream",
     "text": [
      "                                                                                \r"
     ]
    },
    {
     "name": "stdout",
     "output_type": "stream",
     "text": [
      "\n",
      "🔍 Evaluating Model_92_42_Epoch161.pt\n"
     ]
    },
    {
     "name": "stderr",
     "output_type": "stream",
     "text": [
      "                                                                                \r"
     ]
    },
    {
     "name": "stdout",
     "output_type": "stream",
     "text": [
      "\n",
      "🔍 Evaluating Model_92_42_Epoch179.pt\n"
     ]
    },
    {
     "name": "stderr",
     "output_type": "stream",
     "text": [
      "                                                                                \r"
     ]
    },
    {
     "name": "stdout",
     "output_type": "stream",
     "text": [
      "\n",
      "🔍 Evaluating Model_92_42_Epoch98.pt\n"
     ]
    },
    {
     "name": "stderr",
     "output_type": "stream",
     "text": [
      "                                                                               \r"
     ]
    },
    {
     "name": "stdout",
     "output_type": "stream",
     "text": [
      "\n",
      "🔍 Evaluating Model_92_31_Epoch104.pt\n"
     ]
    },
    {
     "name": "stderr",
     "output_type": "stream",
     "text": [
      "                                                                                \r"
     ]
    },
    {
     "name": "stdout",
     "output_type": "stream",
     "text": [
      "\n",
      "🔍 Evaluating Model_92_31_Epoch109.pt\n"
     ]
    },
    {
     "name": "stderr",
     "output_type": "stream",
     "text": [
      "                                                                                \r"
     ]
    },
    {
     "name": "stdout",
     "output_type": "stream",
     "text": [
      "\n",
      "🔍 Evaluating Model_92_31_Epoch114.pt\n"
     ]
    },
    {
     "name": "stderr",
     "output_type": "stream",
     "text": [
      "                                                                                \r"
     ]
    },
    {
     "name": "stdout",
     "output_type": "stream",
     "text": [
      "\n",
      "🔍 Evaluating Model_92_31_Epoch117.pt\n"
     ]
    },
    {
     "name": "stderr",
     "output_type": "stream",
     "text": [
      "                                                                                \r"
     ]
    },
    {
     "name": "stdout",
     "output_type": "stream",
     "text": [
      "\n",
      "🔍 Evaluating Model_92_31_Epoch122.pt\n"
     ]
    },
    {
     "name": "stderr",
     "output_type": "stream",
     "text": [
      "                                                                                \r"
     ]
    },
    {
     "name": "stdout",
     "output_type": "stream",
     "text": [
      "\n",
      "🔍 Evaluating Model_92_31_Epoch127.pt\n"
     ]
    },
    {
     "name": "stderr",
     "output_type": "stream",
     "text": [
      "                                                                                \r"
     ]
    },
    {
     "name": "stdout",
     "output_type": "stream",
     "text": [
      "\n",
      "🔍 Evaluating Model_92_31_Epoch128.pt\n"
     ]
    },
    {
     "name": "stderr",
     "output_type": "stream",
     "text": [
      "                                                                                \r"
     ]
    },
    {
     "name": "stdout",
     "output_type": "stream",
     "text": [
      "\n",
      "🔍 Evaluating Model_92_31_Epoch151.pt\n"
     ]
    },
    {
     "name": "stderr",
     "output_type": "stream",
     "text": [
      "                                                                                \r"
     ]
    },
    {
     "name": "stdout",
     "output_type": "stream",
     "text": [
      "\n",
      "🔍 Evaluating Model_92_31_Epoch68.pt\n"
     ]
    },
    {
     "name": "stderr",
     "output_type": "stream",
     "text": [
      "                                                                               \r"
     ]
    },
    {
     "name": "stdout",
     "output_type": "stream",
     "text": [
      "\n",
      "🔍 Evaluating Model_92_31_Epoch87.pt\n"
     ]
    },
    {
     "name": "stderr",
     "output_type": "stream",
     "text": [
      "                                                                               \r"
     ]
    },
    {
     "name": "stdout",
     "output_type": "stream",
     "text": [
      "\n",
      "🔍 Evaluating Model_92_19_Epoch105.pt\n"
     ]
    },
    {
     "name": "stderr",
     "output_type": "stream",
     "text": [
      "                                                                                \r"
     ]
    },
    {
     "name": "stdout",
     "output_type": "stream",
     "text": [
      "\n",
      "🔍 Evaluating Model_92_19_Epoch112.pt\n"
     ]
    },
    {
     "name": "stderr",
     "output_type": "stream",
     "text": [
      "                                                                                \r"
     ]
    },
    {
     "name": "stdout",
     "output_type": "stream",
     "text": [
      "\n",
      "🔍 Evaluating Model_92_19_Epoch86.pt\n"
     ]
    },
    {
     "name": "stderr",
     "output_type": "stream",
     "text": [
      "                                                                               \r"
     ]
    },
    {
     "name": "stdout",
     "output_type": "stream",
     "text": [
      "\n",
      "🔍 Evaluating Model_92_19_Epoch90.pt\n"
     ]
    },
    {
     "name": "stderr",
     "output_type": "stream",
     "text": [
      "                                                                               \r"
     ]
    },
    {
     "name": "stdout",
     "output_type": "stream",
     "text": [
      "\n",
      "🔍 Evaluating Model_92_19_Epoch95.pt\n"
     ]
    },
    {
     "name": "stderr",
     "output_type": "stream",
     "text": [
      "                                                                               \r"
     ]
    },
    {
     "name": "stdout",
     "output_type": "stream",
     "text": [
      "\n",
      "🔍 Evaluating Model_92_19_Epoch96.pt\n"
     ]
    },
    {
     "name": "stderr",
     "output_type": "stream",
     "text": [
      "                                                                               \r"
     ]
    },
    {
     "name": "stdout",
     "output_type": "stream",
     "text": [
      "\n",
      "🔍 Evaluating Model_92_07_Epoch107.pt\n"
     ]
    },
    {
     "name": "stderr",
     "output_type": "stream",
     "text": [
      "                                                                                \r"
     ]
    },
    {
     "name": "stdout",
     "output_type": "stream",
     "text": [
      "\n",
      "🔍 Evaluating Model_92_07_Epoch72.pt\n"
     ]
    },
    {
     "name": "stderr",
     "output_type": "stream",
     "text": [
      "                                                                               \r"
     ]
    },
    {
     "name": "stdout",
     "output_type": "stream",
     "text": [
      "\n",
      "🔍 Evaluating Model_92_07_Epoch75.pt\n"
     ]
    },
    {
     "name": "stderr",
     "output_type": "stream",
     "text": [
      "                                                                               \r"
     ]
    },
    {
     "name": "stdout",
     "output_type": "stream",
     "text": [
      "\n",
      "🔍 Evaluating Model_92_07_Epoch84.pt\n"
     ]
    },
    {
     "name": "stderr",
     "output_type": "stream",
     "text": [
      "                                                                               \r"
     ]
    },
    {
     "name": "stdout",
     "output_type": "stream",
     "text": [
      "\n",
      "🔍 Evaluating Model_91_96_Epoch102.pt\n"
     ]
    },
    {
     "name": "stderr",
     "output_type": "stream",
     "text": [
      "                                                                                \r"
     ]
    },
    {
     "name": "stdout",
     "output_type": "stream",
     "text": [
      "\n",
      "🔍 Evaluating Model_91_96_Epoch62.pt\n"
     ]
    },
    {
     "name": "stderr",
     "output_type": "stream",
     "text": [
      "                                                                               \r"
     ]
    },
    {
     "name": "stdout",
     "output_type": "stream",
     "text": [
      "\n",
      "🔍 Evaluating Model_91_96_Epoch70.pt\n"
     ]
    },
    {
     "name": "stderr",
     "output_type": "stream",
     "text": [
      "                                                                               \r"
     ]
    },
    {
     "name": "stdout",
     "output_type": "stream",
     "text": [
      "\n",
      "🔍 Evaluating Model_91_96_Epoch81.pt\n"
     ]
    },
    {
     "name": "stderr",
     "output_type": "stream",
     "text": [
      "                                                                               \r"
     ]
    },
    {
     "name": "stdout",
     "output_type": "stream",
     "text": [
      "\n",
      "🔍 Evaluating Model_91_96_Epoch85.pt\n"
     ]
    },
    {
     "name": "stderr",
     "output_type": "stream",
     "text": [
      "                                                                               \r"
     ]
    },
    {
     "name": "stdout",
     "output_type": "stream",
     "text": [
      "\n",
      "🔍 Evaluating Model_91_84_Epoch65.pt\n"
     ]
    },
    {
     "name": "stderr",
     "output_type": "stream",
     "text": [
      "                                                                               \r"
     ]
    },
    {
     "name": "stdout",
     "output_type": "stream",
     "text": [
      "\n",
      "🔍 Evaluating Model_91_84_Epoch69.pt\n"
     ]
    },
    {
     "name": "stderr",
     "output_type": "stream",
     "text": [
      "                                                                               \r"
     ]
    },
    {
     "name": "stdout",
     "output_type": "stream",
     "text": [
      "\n",
      "🔍 Evaluating Model_91_84_Epoch78.pt\n"
     ]
    },
    {
     "name": "stderr",
     "output_type": "stream",
     "text": [
      "                                                                               \r"
     ]
    },
    {
     "name": "stdout",
     "output_type": "stream",
     "text": [
      "\n",
      "🔍 Evaluating Model_91_84_Epoch82.pt\n"
     ]
    },
    {
     "name": "stderr",
     "output_type": "stream",
     "text": [
      "                                                                               \r"
     ]
    },
    {
     "name": "stdout",
     "output_type": "stream",
     "text": [
      "\n",
      "🔍 Evaluating Model_91_72_Epoch106.pt\n"
     ]
    },
    {
     "name": "stderr",
     "output_type": "stream",
     "text": [
      "                                                                                \r"
     ]
    },
    {
     "name": "stdout",
     "output_type": "stream",
     "text": [
      "\n",
      "🔍 Evaluating Model_91_72_Epoch121.pt\n"
     ]
    },
    {
     "name": "stderr",
     "output_type": "stream",
     "text": [
      "                                                                                \r"
     ]
    },
    {
     "name": "stdout",
     "output_type": "stream",
     "text": [
      "\n",
      "🔍 Evaluating Model_91_72_Epoch43.pt\n"
     ]
    },
    {
     "name": "stderr",
     "output_type": "stream",
     "text": [
      "                                                                               \r"
     ]
    },
    {
     "name": "stdout",
     "output_type": "stream",
     "text": [
      "\n",
      "🔍 Evaluating Model_91_72_Epoch45.pt\n"
     ]
    },
    {
     "name": "stderr",
     "output_type": "stream",
     "text": [
      "                                                                               \r"
     ]
    },
    {
     "name": "stdout",
     "output_type": "stream",
     "text": [
      "\n",
      "🔍 Evaluating Model_91_72_Epoch66.pt\n"
     ]
    },
    {
     "name": "stderr",
     "output_type": "stream",
     "text": [
      "                                                                               \r"
     ]
    },
    {
     "name": "stdout",
     "output_type": "stream",
     "text": [
      "\n",
      "🔍 Evaluating Model_91_72_Epoch73.pt\n"
     ]
    },
    {
     "name": "stderr",
     "output_type": "stream",
     "text": [
      "                                                                               \r"
     ]
    },
    {
     "name": "stdout",
     "output_type": "stream",
     "text": [
      "\n",
      "🔍 Evaluating Model_91_72_Epoch77.pt\n"
     ]
    },
    {
     "name": "stderr",
     "output_type": "stream",
     "text": [
      "                                                                               \r"
     ]
    },
    {
     "name": "stdout",
     "output_type": "stream",
     "text": [
      "\n",
      "🔍 Evaluating Model_91_72_Epoch88.pt\n"
     ]
    },
    {
     "name": "stderr",
     "output_type": "stream",
     "text": [
      "                                                                               \r"
     ]
    },
    {
     "name": "stdout",
     "output_type": "stream",
     "text": [
      "\n",
      "🔍 Evaluating Model_91_72_Epoch89.pt\n"
     ]
    },
    {
     "name": "stderr",
     "output_type": "stream",
     "text": [
      "                                                                               \r"
     ]
    },
    {
     "name": "stdout",
     "output_type": "stream",
     "text": [
      "\n",
      "🔍 Evaluating Model_91_61_Epoch100.pt\n"
     ]
    },
    {
     "name": "stderr",
     "output_type": "stream",
     "text": [
      "                                                                                \r"
     ]
    },
    {
     "name": "stdout",
     "output_type": "stream",
     "text": [
      "\n",
      "🔍 Evaluating Model_91_61_Epoch67.pt\n"
     ]
    },
    {
     "name": "stderr",
     "output_type": "stream",
     "text": [
      "                                                                               \r"
     ]
    },
    {
     "name": "stdout",
     "output_type": "stream",
     "text": [
      "\n",
      "🔍 Evaluating Model_91_61_Epoch71.pt\n"
     ]
    },
    {
     "name": "stderr",
     "output_type": "stream",
     "text": [
      "                                                                               \r"
     ]
    },
    {
     "name": "stdout",
     "output_type": "stream",
     "text": [
      "\n",
      "🔍 Evaluating Model_91_61_Epoch91.pt\n"
     ]
    },
    {
     "name": "stderr",
     "output_type": "stream",
     "text": [
      "                                                                               \r"
     ]
    },
    {
     "name": "stdout",
     "output_type": "stream",
     "text": [
      "\n",
      "🔍 Evaluating Model_91_49_Epoch101.pt\n"
     ]
    },
    {
     "name": "stderr",
     "output_type": "stream",
     "text": [
      "                                                                                \r"
     ]
    },
    {
     "name": "stdout",
     "output_type": "stream",
     "text": [
      "\n",
      "🔍 Evaluating Model_91_49_Epoch79.pt\n"
     ]
    },
    {
     "name": "stderr",
     "output_type": "stream",
     "text": [
      "                                                                               \r"
     ]
    },
    {
     "name": "stdout",
     "output_type": "stream",
     "text": [
      "\n",
      "🔍 Evaluating Model_91_38_Epoch76.pt\n"
     ]
    },
    {
     "name": "stderr",
     "output_type": "stream",
     "text": [
      "                                                                               \r"
     ]
    },
    {
     "name": "stdout",
     "output_type": "stream",
     "text": [
      "\n",
      "🔍 Evaluating Model_91_38_Epoch83.pt\n"
     ]
    },
    {
     "name": "stderr",
     "output_type": "stream",
     "text": [
      "                                                                               \r"
     ]
    },
    {
     "name": "stdout",
     "output_type": "stream",
     "text": [
      "\n",
      "🔍 Evaluating Model_91_14_Epoch48.pt\n"
     ]
    },
    {
     "name": "stderr",
     "output_type": "stream",
     "text": [
      "                                                                               \r"
     ]
    },
    {
     "name": "stdout",
     "output_type": "stream",
     "text": [
      "\n",
      "🔍 Evaluating Model_91_14_Epoch54.pt\n"
     ]
    },
    {
     "name": "stderr",
     "output_type": "stream",
     "text": [
      "                                                                               \r"
     ]
    },
    {
     "name": "stdout",
     "output_type": "stream",
     "text": [
      "\n",
      "🔍 Evaluating Model_91_14_Epoch57.pt\n"
     ]
    },
    {
     "name": "stderr",
     "output_type": "stream",
     "text": [
      "                                                                               \r"
     ]
    },
    {
     "name": "stdout",
     "output_type": "stream",
     "text": [
      "\n",
      "🔍 Evaluating Model_91_14_Epoch58.pt\n"
     ]
    },
    {
     "name": "stderr",
     "output_type": "stream",
     "text": [
      "                                                                               \r"
     ]
    },
    {
     "name": "stdout",
     "output_type": "stream",
     "text": [
      "\n",
      "🔍 Evaluating Model_91_14_Epoch99.pt\n"
     ]
    },
    {
     "name": "stderr",
     "output_type": "stream",
     "text": [
      "                                                                               \r"
     ]
    },
    {
     "name": "stdout",
     "output_type": "stream",
     "text": [
      "\n",
      "🔍 Evaluating Model_91_03_Epoch46.pt\n"
     ]
    },
    {
     "name": "stderr",
     "output_type": "stream",
     "text": [
      "                                                                               \r"
     ]
    },
    {
     "name": "stdout",
     "output_type": "stream",
     "text": [
      "\n",
      "🔍 Evaluating Model_91_03_Epoch60.pt\n"
     ]
    },
    {
     "name": "stderr",
     "output_type": "stream",
     "text": [
      "                                                                               \r"
     ]
    },
    {
     "name": "stdout",
     "output_type": "stream",
     "text": [
      "\n",
      "🔍 Evaluating Model_91_03_Epoch74.pt\n"
     ]
    },
    {
     "name": "stderr",
     "output_type": "stream",
     "text": [
      "                                                                               \r"
     ]
    },
    {
     "name": "stdout",
     "output_type": "stream",
     "text": [
      "\n",
      "🔍 Evaluating Model_90_79_Epoch55.pt\n"
     ]
    },
    {
     "name": "stderr",
     "output_type": "stream",
     "text": [
      "                                                                               \r"
     ]
    },
    {
     "name": "stdout",
     "output_type": "stream",
     "text": [
      "\n",
      "🔍 Evaluating Model_90_79_Epoch80.pt\n"
     ]
    },
    {
     "name": "stderr",
     "output_type": "stream",
     "text": [
      "                                                                               \r"
     ]
    },
    {
     "name": "stdout",
     "output_type": "stream",
     "text": [
      "\n",
      "🔍 Evaluating Model_90_68_Epoch42.pt\n"
     ]
    },
    {
     "name": "stderr",
     "output_type": "stream",
     "text": [
      "                                                                               \r"
     ]
    },
    {
     "name": "stdout",
     "output_type": "stream",
     "text": [
      "\n",
      "🔍 Evaluating Model_90_68_Epoch56.pt\n"
     ]
    },
    {
     "name": "stderr",
     "output_type": "stream",
     "text": [
      "                                                                               \r"
     ]
    },
    {
     "name": "stdout",
     "output_type": "stream",
     "text": [
      "\n",
      "🔍 Evaluating Model_90_56_Epoch47.pt\n"
     ]
    },
    {
     "name": "stderr",
     "output_type": "stream",
     "text": [
      "                                                                               \r"
     ]
    },
    {
     "name": "stdout",
     "output_type": "stream",
     "text": [
      "\n",
      "🔍 Evaluating Model_90_56_Epoch59.pt\n"
     ]
    },
    {
     "name": "stderr",
     "output_type": "stream",
     "text": [
      "                                                                               \r"
     ]
    },
    {
     "name": "stdout",
     "output_type": "stream",
     "text": [
      "\n",
      "🔍 Evaluating Model_90_44_Epoch38.pt\n"
     ]
    },
    {
     "name": "stderr",
     "output_type": "stream",
     "text": [
      "                                                                               \r"
     ]
    },
    {
     "name": "stdout",
     "output_type": "stream",
     "text": [
      "\n",
      "🔍 Evaluating Model_90_21_Epoch31.pt\n"
     ]
    },
    {
     "name": "stderr",
     "output_type": "stream",
     "text": [
      "                                                                               \r"
     ]
    },
    {
     "name": "stdout",
     "output_type": "stream",
     "text": [
      "\n",
      "🔍 Evaluating Model_90_21_Epoch40.pt\n"
     ]
    },
    {
     "name": "stderr",
     "output_type": "stream",
     "text": [
      "                                                                               \r"
     ]
    },
    {
     "name": "stdout",
     "output_type": "stream",
     "text": [
      "\n",
      "🔍 Evaluating Model_90_21_Epoch51.pt\n"
     ]
    },
    {
     "name": "stderr",
     "output_type": "stream",
     "text": [
      "                                                                               \r"
     ]
    },
    {
     "name": "stdout",
     "output_type": "stream",
     "text": [
      "\n",
      "🔍 Evaluating Model_90_09_Epoch44.pt\n"
     ]
    },
    {
     "name": "stderr",
     "output_type": "stream",
     "text": [
      "                                                                               \r"
     ]
    },
    {
     "name": "stdout",
     "output_type": "stream",
     "text": [
      "\n",
      "🔍 Evaluating Model_90_09_Epoch50.pt\n"
     ]
    },
    {
     "name": "stderr",
     "output_type": "stream",
     "text": [
      "                                                                               "
     ]
    },
    {
     "name": "stdout",
     "output_type": "stream",
     "text": [
      "\n",
      "📊 Model Comparison Results:\n",
      "Model_92_07_Epoch75.pt              → Test Accuracy: 93.48%\n",
      "Model_92_66_Epoch126.pt             → Test Accuracy: 93.43%\n",
      "Model_92_31_Epoch127.pt             → Test Accuracy: 93.43%\n",
      "Model_92_77_Epoch124.pt             → Test Accuracy: 93.39%\n",
      "Model_92_66_Epoch120.pt             → Test Accuracy: 93.39%\n",
      "Model_92_54_Epoch125.pt             → Test Accuracy: 93.39%\n",
      "Model_92_54_Epoch149.pt             → Test Accuracy: 93.39%\n",
      "Model_92_42_Epoch108.pt             → Test Accuracy: 93.39%\n",
      "Model_92_42_Epoch119.pt             → Test Accuracy: 93.39%\n",
      "Model_91_14_Epoch99.pt              → Test Accuracy: 93.39%\n",
      "Model_92_54_Epoch152.pt             → Test Accuracy: 93.34%\n",
      "Model_92_42_Epoch130.pt             → Test Accuracy: 93.34%\n",
      "Model_91_72_Epoch121.pt             → Test Accuracy: 93.34%\n",
      "Model_93_12_Epoch147.pt             → Test Accuracy: 93.29%\n",
      "Model_92_77_Epoch188.pt             → Test Accuracy: 93.29%\n",
      "Model_92_66_Epoch144.pt             → Test Accuracy: 93.29%\n",
      "Model_92_66_Epoch199.pt             → Test Accuracy: 93.29%\n",
      "Model_92_42_Epoch150.pt             → Test Accuracy: 93.29%\n",
      "Model_92_07_Epoch84.pt              → Test Accuracy: 93.29%\n",
      "Model_91_96_Epoch85.pt              → Test Accuracy: 93.29%\n",
      "Model_92_77_Epoch146.pt             → Test Accuracy: 93.25%\n",
      "Model_92_77_Epoch163.pt             → Test Accuracy: 93.25%\n",
      "Model_92_77_Epoch164.pt             → Test Accuracy: 93.25%\n",
      "Model_92_77_Epoch189.pt             → Test Accuracy: 93.25%\n",
      "Model_92_77_Epoch192.pt             → Test Accuracy: 93.25%\n",
      "Model_92_66_Epoch140.pt             → Test Accuracy: 93.25%\n",
      "Model_92_66_Epoch185.pt             → Test Accuracy: 93.25%\n",
      "Model_92_42_Epoch116.pt             → Test Accuracy: 93.25%\n",
      "Model_92_31_Epoch109.pt             → Test Accuracy: 93.25%\n",
      "Model_92_31_Epoch128.pt             → Test Accuracy: 93.25%\n",
      "Model_92_31_Epoch87.pt              → Test Accuracy: 93.25%\n",
      "Model_92_19_Epoch86.pt              → Test Accuracy: 93.25%\n",
      "Model_91_96_Epoch70.pt              → Test Accuracy: 93.25%\n",
      "Model_91_96_Epoch81.pt              → Test Accuracy: 93.25%\n",
      "Model_91_49_Epoch101.pt             → Test Accuracy: 93.25%\n",
      "Model_92_89_Epoch198.pt             → Test Accuracy: 93.20%\n",
      "Model_92_77_Epoch162.pt             → Test Accuracy: 93.20%\n",
      "Model_92_77_Epoch170.pt             → Test Accuracy: 93.20%\n",
      "Model_92_77_Epoch193.pt             → Test Accuracy: 93.20%\n",
      "Model_92_77_Epoch200.pt             → Test Accuracy: 93.20%\n",
      "Model_92_66_Epoch123.pt             → Test Accuracy: 93.20%\n",
      "Model_92_66_Epoch143.pt             → Test Accuracy: 93.20%\n",
      "Model_92_66_Epoch165.pt             → Test Accuracy: 93.20%\n",
      "Model_92_66_Epoch166.pt             → Test Accuracy: 93.20%\n",
      "Model_92_66_Epoch169.pt             → Test Accuracy: 93.20%\n",
      "Model_92_66_Epoch190.pt             → Test Accuracy: 93.20%\n",
      "Model_92_54_Epoch118.pt             → Test Accuracy: 93.20%\n",
      "Model_92_42_Epoch115.pt             → Test Accuracy: 93.20%\n",
      "Model_92_42_Epoch141.pt             → Test Accuracy: 93.20%\n",
      "Model_92_19_Epoch96.pt              → Test Accuracy: 93.20%\n",
      "Model_91_61_Epoch67.pt              → Test Accuracy: 93.20%\n",
      "Model_93_12_Epoch138.pt             → Test Accuracy: 93.15%\n",
      "Model_92_89_Epoch145.pt             → Test Accuracy: 93.15%\n",
      "Model_92_89_Epoch177.pt             → Test Accuracy: 93.15%\n",
      "Model_92_77_Epoch113.pt             → Test Accuracy: 93.15%\n",
      "Model_92_77_Epoch191.pt             → Test Accuracy: 93.15%\n",
      "Model_92_77_Epoch197.pt             → Test Accuracy: 93.15%\n",
      "Model_92_66_Epoch135.pt             → Test Accuracy: 93.15%\n",
      "Model_92_66_Epoch157.pt             → Test Accuracy: 93.15%\n",
      "Model_92_66_Epoch160.pt             → Test Accuracy: 93.15%\n",
      "Model_92_66_Epoch167.pt             → Test Accuracy: 93.15%\n",
      "Model_92_66_Epoch187.pt             → Test Accuracy: 93.15%\n",
      "Model_92_66_Epoch94.pt              → Test Accuracy: 93.15%\n",
      "Model_92_54_Epoch132.pt             → Test Accuracy: 93.15%\n",
      "Model_92_54_Epoch176.pt             → Test Accuracy: 93.15%\n",
      "Model_92_42_Epoch110.pt             → Test Accuracy: 93.15%\n",
      "Model_92_42_Epoch134.pt             → Test Accuracy: 93.15%\n",
      "Model_92_42_Epoch179.pt             → Test Accuracy: 93.15%\n",
      "Model_92_31_Epoch117.pt             → Test Accuracy: 93.15%\n",
      "Model_92_31_Epoch151.pt             → Test Accuracy: 93.15%\n",
      "Model_91_61_Epoch100.pt             → Test Accuracy: 93.15%\n",
      "Model_91_38_Epoch83.pt              → Test Accuracy: 93.15%\n",
      "Model_92_89_Epoch137.pt             → Test Accuracy: 93.11%\n",
      "Model_92_89_Epoch139.pt             → Test Accuracy: 93.11%\n",
      "Model_92_77_Epoch136.pt             → Test Accuracy: 93.11%\n",
      "Model_92_77_Epoch154.pt             → Test Accuracy: 93.11%\n",
      "Model_92_77_Epoch155.pt             → Test Accuracy: 93.11%\n",
      "Model_92_77_Epoch172.pt             → Test Accuracy: 93.11%\n",
      "Model_92_77_Epoch180.pt             → Test Accuracy: 93.11%\n",
      "Model_92_77_Epoch194.pt             → Test Accuracy: 93.11%\n",
      "Model_92_77_Epoch195.pt             → Test Accuracy: 93.11%\n",
      "Model_92_66_Epoch183.pt             → Test Accuracy: 93.11%\n",
      "Model_92_66_Epoch184.pt             → Test Accuracy: 93.11%\n",
      "Model_92_54_Epoch111.pt             → Test Accuracy: 93.11%\n",
      "Model_92_54_Epoch129.pt             → Test Accuracy: 93.11%\n",
      "Model_92_54_Epoch148.pt             → Test Accuracy: 93.11%\n",
      "Model_92_54_Epoch171.pt             → Test Accuracy: 93.11%\n",
      "Model_92_54_Epoch174.pt             → Test Accuracy: 93.11%\n",
      "Model_92_54_Epoch61.pt              → Test Accuracy: 93.11%\n",
      "Model_92_42_Epoch133.pt             → Test Accuracy: 93.11%\n",
      "Model_92_42_Epoch161.pt             → Test Accuracy: 93.11%\n",
      "Model_92_31_Epoch122.pt             → Test Accuracy: 93.11%\n",
      "Model_92_19_Epoch112.pt             → Test Accuracy: 93.11%\n",
      "Model_91_84_Epoch65.pt              → Test Accuracy: 93.11%\n",
      "Model_91_72_Epoch73.pt              → Test Accuracy: 93.11%\n",
      "Model_91_49_Epoch79.pt              → Test Accuracy: 93.11%\n",
      "Model_92_89_Epoch93.pt              → Test Accuracy: 93.06%\n",
      "Model_92_77_Epoch186.pt             → Test Accuracy: 93.06%\n",
      "Model_92_77_Epoch196.pt             → Test Accuracy: 93.06%\n",
      "Model_92_77_Epoch64.pt              → Test Accuracy: 93.06%\n",
      "Model_92_66_Epoch131.pt             → Test Accuracy: 93.06%\n",
      "Model_92_66_Epoch158.pt             → Test Accuracy: 93.06%\n",
      "Model_92_66_Epoch178.pt             → Test Accuracy: 93.06%\n",
      "Model_92_54_Epoch168.pt             → Test Accuracy: 93.06%\n",
      "Model_92_54_Epoch181.pt             → Test Accuracy: 93.06%\n",
      "Model_92_42_Epoch142.pt             → Test Accuracy: 93.06%\n",
      "Model_92_19_Epoch105.pt             → Test Accuracy: 93.06%\n",
      "Model_91_96_Epoch102.pt             → Test Accuracy: 93.06%\n",
      "Model_91_72_Epoch88.pt              → Test Accuracy: 93.06%\n",
      "Model_92_77_Epoch159.pt             → Test Accuracy: 93.01%\n",
      "Model_92_54_Epoch182.pt             → Test Accuracy: 93.01%\n",
      "Model_92_54_Epoch92.pt              → Test Accuracy: 93.01%\n",
      "Model_92_31_Epoch104.pt             → Test Accuracy: 93.01%\n",
      "Model_92_31_Epoch114.pt             → Test Accuracy: 93.01%\n",
      "Model_92_19_Epoch95.pt              → Test Accuracy: 93.01%\n",
      "Model_91_72_Epoch89.pt              → Test Accuracy: 93.01%\n",
      "Model_92_77_Epoch156.pt             → Test Accuracy: 92.97%\n",
      "Model_92_66_Epoch175.pt             → Test Accuracy: 92.97%\n",
      "Model_92_54_Epoch97.pt              → Test Accuracy: 92.97%\n",
      "Model_92_19_Epoch90.pt              → Test Accuracy: 92.97%\n",
      "Model_91_72_Epoch66.pt              → Test Accuracy: 92.97%\n",
      "Model_91_61_Epoch71.pt              → Test Accuracy: 92.97%\n",
      "Model_92_77_Epoch173.pt             → Test Accuracy: 92.92%\n",
      "Model_92_66_Epoch153.pt             → Test Accuracy: 92.87%\n",
      "Model_92_42_Epoch98.pt              → Test Accuracy: 92.87%\n",
      "Model_92_54_Epoch63.pt              → Test Accuracy: 92.83%\n",
      "Model_91_96_Epoch62.pt              → Test Accuracy: 92.83%\n",
      "Model_91_84_Epoch82.pt              → Test Accuracy: 92.83%\n",
      "Model_91_72_Epoch106.pt             → Test Accuracy: 92.83%\n",
      "Model_92_07_Epoch107.pt             → Test Accuracy: 92.78%\n",
      "Model_92_42_Epoch103.pt             → Test Accuracy: 92.73%\n",
      "Model_91_84_Epoch78.pt              → Test Accuracy: 92.73%\n",
      "Model_91_03_Epoch74.pt              → Test Accuracy: 92.73%\n",
      "Model_90_21_Epoch51.pt              → Test Accuracy: 92.69%\n",
      "Model_91_84_Epoch69.pt              → Test Accuracy: 92.64%\n",
      "Model_91_38_Epoch76.pt              → Test Accuracy: 92.64%\n",
      "Model_91_61_Epoch91.pt              → Test Accuracy: 92.59%\n",
      "Model_91_72_Epoch77.pt              → Test Accuracy: 92.55%\n",
      "Model_90_79_Epoch80.pt              → Test Accuracy: 92.50%\n",
      "Model_90_56_Epoch59.pt              → Test Accuracy: 92.50%\n",
      "Model_92_31_Epoch68.pt              → Test Accuracy: 92.45%\n",
      "Model_92_07_Epoch72.pt              → Test Accuracy: 92.36%\n",
      "Model_91_03_Epoch60.pt              → Test Accuracy: 92.13%\n",
      "Model_91_14_Epoch57.pt              → Test Accuracy: 92.08%\n",
      "Model_90_09_Epoch50.pt              → Test Accuracy: 92.08%\n",
      "Model_90_79_Epoch55.pt              → Test Accuracy: 91.99%\n",
      "Model_90_56_Epoch47.pt              → Test Accuracy: 91.99%\n",
      "Model_91_14_Epoch58.pt              → Test Accuracy: 91.94%\n",
      "Model_91_14_Epoch48.pt              → Test Accuracy: 91.85%\n",
      "Model_91_72_Epoch45.pt              → Test Accuracy: 91.71%\n",
      "Model_91_14_Epoch54.pt              → Test Accuracy: 91.71%\n",
      "Model_90_68_Epoch56.pt              → Test Accuracy: 91.71%\n",
      "Model_90_21_Epoch40.pt              → Test Accuracy: 91.66%\n",
      "Model_91_03_Epoch46.pt              → Test Accuracy: 91.62%\n",
      "Model_90_44_Epoch38.pt              → Test Accuracy: 91.38%\n",
      "Model_90_68_Epoch42.pt              → Test Accuracy: 91.34%\n",
      "Model_90_21_Epoch31.pt              → Test Accuracy: 91.29%\n",
      "Model_90_09_Epoch44.pt              → Test Accuracy: 91.20%\n",
      "Model_91_72_Epoch43.pt              → Test Accuracy: 91.06%\n"
     ]
    },
    {
     "name": "stderr",
     "output_type": "stream",
     "text": [
      "\r"
     ]
    }
   ],
   "source": [
    "import os\n",
    "import re\n",
    "import torch\n",
    "from tqdm import tqdm\n",
    "from sklearn.metrics import accuracy_score\n",
    "\n",
    "# === Configuration ===\n",
    "model_class = YAMNet1DCNN_Improved\n",
    "device = torch.device(\"cuda\" if torch.cuda.is_available() else \"cpu\")\n",
    "\n",
    "# === Find all saved models matching pattern ===\n",
    "model_files = [f for f in os.listdir() if f.startswith(\"Model_\") and f.endswith(\".pt\")]\n",
    "\n",
    "# Optional: sort by val_acc (e.g., Model_91_88_Epoch58.pt)\n",
    "def extract_val_acc(file):\n",
    "    match = re.search(r'Model_(\\d+)_(\\d+)', file)\n",
    "    if match:\n",
    "        major, minor = match.groups()\n",
    "        return float(f\"{major}.{minor}\")\n",
    "    return 0.0\n",
    "\n",
    "model_files.sort(key=extract_val_acc, reverse=True)\n",
    "\n",
    "# === Evaluate each model ===\n",
    "results = []\n",
    "\n",
    "for model_file in model_files:\n",
    "    print(f\"\\n🔍 Evaluating {model_file}\")\n",
    "    model = model_class().to(device)\n",
    "    model.load_state_dict(torch.load(model_file, map_location=device))\n",
    "    model.eval()\n",
    "\n",
    "    all_preds = []\n",
    "    all_labels = []\n",
    "\n",
    "    with torch.no_grad():\n",
    "        for xb, yb in tqdm(test_loader, desc=f\"Testing {model_file}\", leave=False):\n",
    "            xb = xb.to(device)\n",
    "            yb = yb.to(device)\n",
    "            preds = model(xb)\n",
    "            preds = preds.argmax(dim=1)\n",
    "            all_preds.extend(preds.cpu().numpy())\n",
    "            all_labels.extend(yb.cpu().numpy())\n",
    "\n",
    "    acc = accuracy_score(all_labels, all_preds) * 100\n",
    "    results.append((model_file, acc))\n",
    "\n",
    "# === Print sorted results ===\n",
    "results.sort(key=lambda x: x[1], reverse=True)\n",
    "\n",
    "print(\"\\n📊 Model Comparison Results:\")\n",
    "for name, acc in results:\n",
    "    print(f\"{name:<35} → Test Accuracy: {acc:.2f}%\")\n"
   ]
  },
  {
   "cell_type": "code",
   "execution_count": 36,
   "id": "d8c318ee",
   "metadata": {},
   "outputs": [
    {
     "name": "stderr",
     "output_type": "stream",
     "text": [
      "Seed 42: 100%|██████████| 68/68 [00:02<00:00, 26.50it/s]\n"
     ]
    },
    {
     "name": "stdout",
     "output_type": "stream",
     "text": [
      "🎯 Seed 42 → Test Accuracy: 93.48%\n"
     ]
    },
    {
     "name": "stderr",
     "output_type": "stream",
     "text": [
      "Seed 43: 100%|██████████| 68/68 [00:02<00:00, 23.36it/s]\n"
     ]
    },
    {
     "name": "stdout",
     "output_type": "stream",
     "text": [
      "🎯 Seed 43 → Test Accuracy: 98.09%\n"
     ]
    },
    {
     "name": "stderr",
     "output_type": "stream",
     "text": [
      "Seed 44: 100%|██████████| 68/68 [00:02<00:00, 22.95it/s]\n"
     ]
    },
    {
     "name": "stdout",
     "output_type": "stream",
     "text": [
      "🎯 Seed 44 → Test Accuracy: 97.53%\n"
     ]
    },
    {
     "name": "stderr",
     "output_type": "stream",
     "text": [
      "Seed 45: 100%|██████████| 68/68 [00:02<00:00, 24.85it/s]"
     ]
    },
    {
     "name": "stdout",
     "output_type": "stream",
     "text": [
      "🎯 Seed 45 → Test Accuracy: 98.51%\n",
      "\n",
      "✅ Averaged Test Accuracy: 96.90% ± 2.01% over 4 seeds\n"
     ]
    },
    {
     "name": "stderr",
     "output_type": "stream",
     "text": [
      "\n"
     ]
    }
   ],
   "source": [
    "import os\n",
    "import re\n",
    "import torch\n",
    "from tqdm import tqdm\n",
    "from sklearn.metrics import accuracy_score\n",
    "import numpy as np\n",
    "from sklearn.model_selection import train_test_split\n",
    "from torch.utils.data import TensorDataset, DataLoader, random_split\n",
    "\n",
    "seeds = [42,43,44,45]\n",
    "accuracies = []\n",
    "device = torch.device(\"cuda\" if torch.cuda.is_available() else \"cpu\")\n",
    "\n",
    "for seed in seeds:\n",
    "    # Split\n",
    "    X_train, X_test, y_train, y_test = train_test_split(\n",
    "        X_seq, y_seq, test_size=0.2, stratify=y_seq, random_state=seed\n",
    "    )\n",
    "\n",
    "    # Convert to tensors\n",
    "    X_test_tensor = torch.tensor(X_test, dtype=torch.float32)\n",
    "    y_test_tensor = torch.tensor(y_test, dtype=torch.long)\n",
    "    test_ds = TensorDataset(X_test_tensor, y_test_tensor)\n",
    "    test_loader = DataLoader(test_ds, batch_size=32)\n",
    "\n",
    "    # Load model\n",
    "    model = YAMNet1DCNN_Improved().to(device)\n",
    "    model.load_state_dict(torch.load(\"Best_Model.pt\"))\n",
    "    model.eval()\n",
    "\n",
    "    # Test\n",
    "    all_preds = []\n",
    "    all_labels = []\n",
    "    with torch.no_grad():\n",
    "        for xb, yb in tqdm(test_loader, desc=f\"Seed {seed}\"):\n",
    "            xb = xb.to(device)\n",
    "            preds = model(xb)\n",
    "            all_preds.extend(preds.argmax(1).cpu().numpy())\n",
    "            all_labels.extend(yb.numpy())\n",
    "\n",
    "    acc = accuracy_score(all_labels, all_preds) * 100\n",
    "    accuracies.append(acc)\n",
    "    print(f\"🎯 Seed {seed} → Test Accuracy: {acc:.2f}%\")\n",
    "\n",
    "# 📊 Final result\n",
    "mean_acc = np.mean(accuracies)\n",
    "std_acc = np.std(accuracies)\n",
    "\n",
    "print(f\"\\n✅ Averaged Test Accuracy: {mean_acc:.2f}% ± {std_acc:.2f}% over {len(seeds)} seeds\")"
   ]
  },
  {
   "cell_type": "code",
   "execution_count": 46,
   "id": "ecda8a3a",
   "metadata": {},
   "outputs": [
    {
     "data": {
      "image/png": "[encoded data removed]",
      "text/plain": [
       "<Figure size 1400x600 with 1 Axes>"
      ]
     },
     "metadata": {},
     "output_type": "display_data"
    },
    {
     "name": "stdout",
     "output_type": "stream",
     "text": [
      "0                   : 98.50%\n",
      "1                   : 100.00%\n",
      "2                   : 100.00%\n",
      "3                   : 100.00%\n",
      "4                   : 100.00%\n",
      "5                   : 98.94%\n",
      "6                   : 100.00%\n",
      "7                   : 100.00%\n",
      "8                   : 98.00%\n",
      "9                   : 100.00%\n",
      "10                  : 100.00%\n",
      "11                  : 100.00%\n",
      "12                  : 100.00%\n",
      "13                  : 100.00%\n",
      "14                  : 100.00%\n",
      "15                  : 100.00%\n",
      "16                  : 100.00%\n",
      "17                  : 100.00%\n",
      "18                  : 87.50%\n",
      "19                  : 100.00%\n",
      "20                  : 98.56%\n",
      "21                  : 100.00%\n",
      "22                  : 100.00%\n",
      "23                  : 99.00%\n",
      "24                  : 100.00%\n",
      "25                  : 100.00%\n",
      "26                  : 98.50%\n",
      "27                  : 100.00%\n",
      "28                  : 100.00%\n",
      "29                  : 100.00%\n",
      "30                  : 100.00%\n",
      "31                  : 100.00%\n",
      "32                  : 87.50%\n",
      "33                  : 100.00%\n",
      "34                  : 100.00%\n",
      "35                  : 100.00%\n",
      "36                  : 99.00%\n",
      "37                  : 100.00%\n",
      "38                  : 87.50%\n",
      "39                  : 87.50%\n",
      "40                  : 100.00%\n",
      "41                  : 100.00%\n",
      "42                  : 100.00%\n",
      "43                  : 100.00%\n",
      "44                  : 100.00%\n",
      "45                  : 100.00%\n",
      "46                  : 98.97%\n",
      "47                  : 87.50%\n",
      "48                  : 100.00%\n",
      "49                  : 97.00%\n",
      "50                  : 100.00%\n",
      "51                  : 100.00%\n",
      "52                  : 100.00%\n",
      "53                  : 100.00%\n",
      "54                  : 100.00%\n",
      "55                  : 87.50%\n",
      "56                  : 100.00%\n"
     ]
    }
   ],
   "source": [
    "import matplotlib.pyplot as plt\n",
    "import numpy as np\n",
    "from sklearn.metrics import confusion_matrix\n",
    "\n",
    "def plot_per_class_accuracy(y_true, y_pred, label_encoder):\n",
    "    # Create confusion matrix\n",
    "    cm = confusion_matrix(y_true, y_pred, labels=range(len(label_encoder.classes_)))\n",
    "\n",
    "    # Compute per-class accuracy\n",
    "    class_counts = cm.sum(axis=1)\n",
    "    correct_counts = np.diag(cm)\n",
    "    class_accuracy = correct_counts / class_counts\n",
    "\n",
    "    # Plot\n",
    "    plt.figure(figsize=(14, 6))\n",
    "    plt.bar(range(len(label_encoder.classes_)), class_accuracy)\n",
    "    plt.xticks(ticks=range(len(label_encoder.classes_)), labels=label_encoder.classes_, rotation=90)\n",
    "    plt.ylim(0, 1.05)\n",
    "    plt.ylabel(\"Accuracy\")\n",
    "    plt.title(\"Per-Class Accuracy\")\n",
    "    plt.grid(True, axis='y')\n",
    "    plt.tight_layout()\n",
    "    plt.show()\n",
    "\n",
    "    # Also print\n",
    "    for i, acc in enumerate(class_accuracy):\n",
    "        print(f\"{label_encoder.classes_[i]:<20}: {acc*100:.2f}%\")\n",
    "\n",
    "# Usage (after all_preds and all_labels are collected)\n",
    "from sklearn.preprocessing import LabelEncoder\n",
    "label_encoder = LabelEncoder()\n",
    "label_encoder.fit(all_labels)  # assumes y_true includes all classes\n",
    "\n",
    "plot_per_class_accuracy(all_labels, all_preds, label_encoder)\n"
   ]
  },
  {
   "cell_type": "code",
   "execution_count": null,
   "id": "23f4a26b",
   "metadata": {},
   "outputs": [
    {
     "name": "stdout",
     "output_type": "stream",
     "text": [
      "['path', 'category', 'source', 'class_id']\n",
      "1: airplane\n",
      "9: chirping_birds\n",
      "17: crickets\n",
      "24: drinking_sipping\n",
      "33: helicopter\n",
      "55: water_drops\n",
      "56: wind\n"
     ]
    }
   ],
   "source": [
    "import pandas as pd\n",
    "\n",
    "\n",
    "# Load the merged CSV that contains all class info\n",
    "df = pd.read_csv(\"final_merged_with_class_ids.csv\")\n",
    "\n",
    "# Check actual column names\n",
    "print(df.columns.tolist())  # Uncomment this if you’re unsure what the correct column names are\n",
    "\n",
    "# If the correct columns are \"class_id\" and \"category\", modify accordingly:\n",
    "id_to_class = df[['class_id', 'category']].drop_duplicates().sort_values('class_id').set_index('class_id')['category'].to_dict()\n",
    "\n",
    "# List of class IDs to lookup \n",
    "class_ids = [1, 9, 17, 24, 33, 55, 56]\n",
    "\n",
    "# Output class names\n",
    "for cid in class_ids:\n",
    "    print(f\"{cid}: {id_to_class[cid]}\")\n"
   ]
  },
  {
   "cell_type": "code",
   "execution_count": 49,
   "id": "28c13185",
   "metadata": {},
   "outputs": [
    {
     "name": "stdout",
     "output_type": "stream",
     "text": [
      "WARNING:tensorflow:From c:\\Users\\nasrr\\Desktop\\myenv\\lib\\site-packages\\tf_keras\\src\\losses.py:2976: The name tf.losses.sparse_softmax_cross_entropy is deprecated. Please use tf.compat.v1.losses.sparse_softmax_cross_entropy instead.\n",
      "\n",
      "WARNING:tensorflow:From c:\\Users\\nasrr\\Desktop\\myenv\\lib\\site-packages\\tensorflow_hub\\resolver.py:120: The name tf.gfile.MakeDirs is deprecated. Please use tf.io.gfile.makedirs instead.\n",
      "\n"
     ]
    },
    {
     "name": "stderr",
     "output_type": "stream",
     "text": [
      "WARNING:tensorflow:From c:\\Users\\nasrr\\Desktop\\myenv\\lib\\site-packages\\tensorflow_hub\\resolver.py:120: The name tf.gfile.MakeDirs is deprecated. Please use tf.io.gfile.makedirs instead.\n",
      "\n"
     ]
    },
    {
     "name": "stdout",
     "output_type": "stream",
     "text": [
      "WARNING:tensorflow:From c:\\Users\\nasrr\\Desktop\\myenv\\lib\\site-packages\\tensorflow_hub\\module_v2.py:126: The name tf.saved_model.load_v2 is deprecated. Please use tf.compat.v2.saved_model.load instead.\n",
      "\n"
     ]
    },
    {
     "name": "stderr",
     "output_type": "stream",
     "text": [
      "WARNING:tensorflow:From c:\\Users\\nasrr\\Desktop\\myenv\\lib\\site-packages\\tensorflow_hub\\module_v2.py:126: The name tf.saved_model.load_v2 is deprecated. Please use tf.compat.v2.saved_model.load instead.\n",
      "\n"
     ]
    }
   ],
   "source": [
    "import librosa\n",
    "import torch\n",
    "import tensorflow as tf\n",
    "import numpy as np\n",
    "import tensorflow_hub as hub\n",
    "\n",
    "# Load trained model\n",
    "device = torch.device(\"cuda\" if torch.cuda.is_available() else \"cpu\")\n",
    "model = YAMNet1DCNN_Improved().to(device)\n",
    "model.load_state_dict(torch.load(\"Best_Model.pt\", map_location=device))\n",
    "model.eval()\n",
    "\n",
    "MAX_FRAMES = 100\n",
    "device = torch.device(\"cuda\" if torch.cuda.is_available() else \"cpu\")\n",
    "\n",
    "\n",
    "# Load YAMNet from TF Hub\n",
    "yamnet_model = hub.load('https://tfhub.dev/google/yamnet/1')\n",
    "\n",
    "# Class map from your training data\n",
    "import pandas as pd\n",
    "df = pd.read_csv(\"final_merged_with_class_ids.csv\")\n",
    "label_dict = df[['class_id', 'category']].drop_duplicates().set_index('class_id')['category'].to_dict()\n",
    "\n",
    "# Inference function\n",
    "def predict_my_class(wav_path):\n",
    "    try:\n",
    "        waveform, sr = librosa.load(wav_path, sr=16000, mono=True)\n",
    "        waveform = tf.convert_to_tensor(waveform, dtype=tf.float32)\n",
    "        _, embeddings, _ = yamnet_model(waveform)\n",
    "        emb_np = embeddings.numpy()\n",
    "\n",
    "        MAX_FRAMES = 100\n",
    "        if emb_np.shape[0] < MAX_FRAMES:\n",
    "            pad = MAX_FRAMES - emb_np.shape[0]\n",
    "            emb_np = np.pad(emb_np, ((0, pad), (0, 0)), mode='constant')\n",
    "        else:\n",
    "            emb_np = emb_np[:MAX_FRAMES, :]\n",
    "\n",
    "        input_tensor = torch.tensor(emb_np, dtype=torch.float32).unsqueeze(0).to(device)  # shape: (1, 100, 1024)\n",
    "        with torch.no_grad():\n",
    "            logits = model(input_tensor)\n",
    "            pred_class = logits.argmax(1).item()\n",
    "            return label_dict.get(pred_class, f\"Class ID: {pred_class}\")\n",
    "    except Exception as e:\n",
    "        return f\"❌ Error: {e}\"\n"
   ]
  },
  {
   "cell_type": "code",
   "execution_count": 85,
   "id": "960f7fbb",
   "metadata": {},
   "outputs": [
    {
     "name": "stdout",
     "output_type": "stream",
     "text": [
      "🔴 Recording... Speak clearly into your microphone.\n",
      "✅ Recording saved to recorded.wav\n",
      "🎯 Predicted Label: children_playing\n"
     ]
    }
   ],
   "source": [
    "import sounddevice as sd\n",
    "import soundfile as sf\n",
    "import numpy as np\n",
    "import librosa\n",
    "\n",
    "# Settings\n",
    "DURATION = 20  # seconds\n",
    "SAMPLE_RATE = 16000\n",
    "WAV_FILENAME = \"recorded.wav\"\n",
    "\n",
    "# Step 1: Record\n",
    "print(\"🔴 Recording... Speak clearly into your microphone.\")\n",
    "audio = sd.rec(int(DURATION * SAMPLE_RATE), samplerate=SAMPLE_RATE, channels=1, dtype='float32')\n",
    "sd.wait()\n",
    "audio = np.squeeze(audio)\n",
    "\n",
    "# Step 2: Normalize volume\n",
    "max_val = np.max(np.abs(audio))\n",
    "if max_val > 0:\n",
    "    audio = audio / max_val\n",
    "\n",
    "# Step 3: Save to WAV\n",
    "sf.write(WAV_FILENAME, audio, SAMPLE_RATE)\n",
    "print(\"✅ Recording saved to\", WAV_FILENAME)\n",
    "\n",
    "# Step 4: Predict\n",
    "result = predict_my_class(WAV_FILENAME)\n",
    "print(\"🎯 Predicted Label:\", result)\n"
   ]
  },
  {
   "cell_type": "code",
   "execution_count": null,
   "id": "b95a21fd",
   "metadata": {},
   "outputs": [
    {
     "name": "stdout",
     "output_type": "stream",
     "text": [
      "dog\n",
      "dog\n",
      "chirping_birds\n"
     ]
    }
   ],
   "source": [
    "print(predict_my_class(\"DOG10.wav\"))\n",
    "print(predict_my_class(\"dog-barking.wav\"))\n",
    "print(predict_my_class(\"Free-birds-chirping-sound-effect.wav\"))\n",
    "print(predict_my_class(\"Chirping-birds2.wav\"))"
   ]
  },
  {
   "cell_type": "code",
   "execution_count": null,
   "id": "c2ff2c1e",
   "metadata": {},
   "outputs": [
    {
     "data": {
      "image/png": "[encoded data removed]",
      "text/plain": [
       "<Figure size 1200x1000 with 2 Axes>"
      ]
     },
     "metadata": {},
     "output_type": "display_data"
    }
   ],
   "source": [
    "import numpy as np\n",
    "import matplotlib.pyplot as plt\n",
    "import seaborn as sns\n",
    "from sklearn.metrics import confusion_matrix\n",
    "\n",
    "# Confusion matrix\n",
    "cm = confusion_matrix(all_labels, all_preds)\n",
    "\n",
    "# Normalize\n",
    "cm_normalized = cm.astype('float') / cm.sum(axis=1)[:, np.newaxis]\n",
    "\n",
    "# Plot\n",
    "plt.figure(figsize=(12, 10))\n",
    "sns.heatmap(cm_normalized, cmap='Blues', square=True, cbar=True)\n",
    "plt.title(\"Normalized Confusion Matrix\")\n",
    "plt.xlabel(\"Predicted Label\")\n",
    "plt.ylabel(\"True Label\")\n",
    "plt.tight_layout()\n",
    "plt.show()\n"
   ]
  },
  {
   "cell_type": "code",
   "execution_count": 3,
   "id": "07987b90",
   "metadata": {},
   "outputs": [
    {
     "name": "stdout",
     "output_type": "stream",
     "text": [
      "Collecting pydub\n",
      "  Downloading pydub-0.25.1-py2.py3-none-any.whl.metadata (1.4 kB)\n",
      "Downloading pydub-0.25.1-py2.py3-none-any.whl (32 kB)\n",
      "Installing collected packages: pydub\n",
      "Successfully installed pydub-0.25.1\n",
      "Note: you may need to restart the kernel to use updated packages.\n"
     ]
    }
   ],
   "source": [
    "%pip install pydub"
   ]
  }
 ],
 "metadata": {
  "kernelspec": {
   "display_name": "myenv",
   "language": "python",
   "name": "python3"
  },
  "language_info": {
   "codemirror_mode": {
    "name": "ipython",
    "version": 3
   },
   "file_extension": ".py",
   "mimetype": "text/x-python",
   "name": "python",
   "nbconvert_exporter": "python",
   "pygments_lexer": "ipython3",
   "version": "3.10.11"
  }
 },
 "nbformat": 4,
 "nbformat_minor": 5
}
